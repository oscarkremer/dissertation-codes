{
 "cells": [
  {
   "cell_type": "code",
   "execution_count": 1,
   "metadata": {},
   "outputs": [],
   "source": [
    "import numpy as np\n",
    "import matplotlib.pyplot as plt"
   ]
  },
  {
   "cell_type": "code",
   "execution_count": null,
   "metadata": {},
   "outputs": [],
   "source": [
    "def compute_mn(gamma, Omega, Gamma, n, phi, delta_t):\n",
    "    m = np.zeros((2,2))\n",
    "    m[0,0] = 1\n",
    "    m[0,1] = Omega*delta_t\n",
    "    m[1,0] = -Omega*delta_t + 2*Gamma*delta_t*np.cos(2*Omega*(n-1)*delta_t+phi)\n",
    "    m[1,1] = 1-gamma*delta_t\n",
    "    return m\n",
    "\n",
    "def compute_dynamics(gamma, Omega, Gamma, phi, initial_states, t):\n",
    "    delta_t = np.diff(t)[0]\n",
    "    for ii in range(t.shape[0]):\n",
    "        T = compute_mn(gamma, Omega, Gamma, ii, phi, delta_t)*T\n",
    "        "
   ]
  }
 ],
 "metadata": {
  "kernelspec": {
   "display_name": "base",
   "language": "python",
   "name": "python3"
  },
  "language_info": {
   "codemirror_mode": {
    "name": "ipython",
    "version": 3
   },
   "file_extension": ".py",
   "mimetype": "text/x-python",
   "name": "python",
   "nbconvert_exporter": "python",
   "pygments_lexer": "ipython3",
   "version": "3.8.5"
  }
 },
 "nbformat": 4,
 "nbformat_minor": 2
}
