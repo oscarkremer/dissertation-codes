{
 "cells": [
  {
   "cell_type": "code",
   "execution_count": 1,
   "metadata": {},
   "outputs": [],
   "source": [
    "import scipy\n",
    "import numpy as np\n",
    "import pandas as pd\n",
    "import seaborn as sns\n",
    "import matplotlib.pyplot as plt\n",
    "from tqdm import tqdm\n",
    "from dissertation_codes.estimators import KalmanFilter\n",
    "import dissertation_codes.utils.constants as ct\n",
    "from dissertation_codes.environment import Particle3D\n",
    "from control import lqr, dare\n",
    "from dissertation_codes.utils.parameters import *"
   ]
  },
  {
   "cell_type": "code",
   "execution_count": 2,
   "metadata": {},
   "outputs": [],
   "source": [
    "plt.rcParams.update({'font.size': 10})\n",
    "plt.rcParams['axes.linewidth'] = 1.5\n",
    "plt.rcParams['font.family'] = 'serif'\n",
    "plt.rcParams['font.serif'] = ['Times New Roman'] + plt.rcParams['font.serif']\n",
    "plt.rcParams.update({\n",
    "    \"text.usetex\": True,\n",
    "})"
   ]
  },
  {
   "cell_type": "code",
   "execution_count": 12,
   "metadata": {},
   "outputs": [],
   "source": [
    "omegas = [2*np.pi*63.10e3, 2*np.pi*70.24e3, 2*np.pi*15.79e3]\n",
    "\n",
    "B = np.array([[0, 0, 0],\n",
    "        [0, 0, 0],\n",
    "        [0, 0, 0],\n",
    "        [1, 0, 0],\n",
    "        [0, 1, 0],\n",
    "        [0, 0, 1]])\n",
    "radius = 75e-9\n",
    "wavelength = 1.064e-6\n",
    "power = 300e-3\n",
    "p = 1e-7\n",
    "waist = 0.6e-6\n",
    "eta_detection = 0.5\n",
    "delta_t = 1e-9\n",
    "control_step = 30 \n",
    "fs = 1/(control_step*delta_t)\n",
    "gamma, omega, ba_force, std_detection, std_z = compute_parameters_simulation(power, wavelength, waist, \n",
    "                                                                      radius, p, fs, eta_detection)\n",
    "\n",
    "env = Particle3D(omegas, gamma, B, radius=radius)\n",
    "period = 2*np.pi/omegas[2]\n",
    "t = np.arange(0, 3 * period, delta_t)\n",
    "N = t.shape[0]"
   ]
  },
  {
   "cell_type": "code",
   "execution_count": 13,
   "metadata": {},
   "outputs": [],
   "source": [
    "Q = np.array([[0, 0, 0, 0, 0, 0], \n",
    "              [0, 0, 0, 0, 0, 0],\n",
    "              [0, 0, 0, 0, 0, 0],\n",
    "              [0, 0, 0, env.thermal_force_std_x**2, 0, 0],\n",
    "              [0, 0, 0, 0, env.thermal_force_std_y**2, 0],\n",
    "              [0, 0, 0, 0, 0, env.thermal_force_std_z**2]])*control_step*delta_t/2\n",
    "R = np.array([[np.power(std_detection/env.zp_x, 2), 0, 0],\n",
    "              [0, np.power(std_detection/env.zp_y, 2), 0],\n",
    "              [0, 0, np.power(std_detection/env.zp_z, 2)]])"
   ]
  },
  {
   "cell_type": "code",
   "execution_count": 14,
   "metadata": {},
   "outputs": [],
   "source": [
    "Ad = scipy.linalg.expm(env.A *control_step*delta_t)\n",
    "Bd = env.B * delta_t * control_step"
   ]
  },
  {
   "cell_type": "code",
   "execution_count": 36,
   "metadata": {},
   "outputs": [
    {
     "data": {
      "text/plain": [
       "array([[ 43323.57563476,      0.        ,      0.        ,\n",
       "        275804.0337212 ,      0.        ,      0.        ],\n",
       "       [     0.        ,  47789.51516957,      0.        ,\n",
       "             0.        , 306932.97811093,      0.        ],\n",
       "       [     0.        ,      0.        ,  11492.4401573 ,\n",
       "             0.        ,      0.        ,  69131.63187391]])"
      ]
     },
     "execution_count": 36,
     "metadata": {},
     "output_type": "execute_result"
    }
   ],
   "source": [
    "g_fb = 0.25\n",
    "Ad = scipy.linalg.expm(env.A *control_step*delta_t)\n",
    "Bd = env.B * delta_t * control_step\n",
    "cost_states = np.array([[omegas[0]/2, 0, 0, 0, 0, 0],\n",
    "                        [0, omegas[1]/2, 0, 0, 0, 0],\n",
    "                        [0, 0, omegas[2]/2, 0, 0, 0],\n",
    "                        [0, 0, 0, omegas[0]/2, 0, 0],\n",
    "                        [0, 0, 0, 0, omegas[1]/2, 0],\n",
    "                        [0, 0, 0, 0, 0, omegas[2]/2]])\n",
    "control_effort = np.array([[1/(2*omegas[0]), 0, 0],\n",
    "                        [0, 1/(2*omegas[1]), 0],\n",
    "                        [0, 0, 1/(2*omegas[2])]])\n",
    "X, L, G = dare(Ad, Bd, cost_states, control_effort/(g_fb**2))\n",
    "G"
   ]
  },
  {
   "cell_type": "code",
   "execution_count": 45,
   "metadata": {},
   "outputs": [
    {
     "name": "stderr",
     "output_type": "stream",
     "text": [
      "  0%|          | 0/189994 [00:00<?, ?it/s]"
     ]
    },
    {
     "name": "stderr",
     "output_type": "stream",
     "text": [
      "100%|██████████| 189994/189994 [00:06<00:00, 30417.18it/s]\n"
     ]
    }
   ],
   "source": [
    "x0 = 100\n",
    "P0 = 100000*np.eye(6)\n",
    "estimation = np.zeros((6,1))\n",
    "states = x0*np.random.normal(size=(6,1))\n",
    "new_states = np.zeros((N, 6))\n",
    "measured_states = np.zeros((N,3))\n",
    "estimated_states = np.zeros((N, 6))\n",
    "estimated_states[0, :] = estimation[:,0]\n",
    "#estimation = estimation.reshape((2, 1))\n",
    "control=np.zeros((3,1))\n",
    "controls = np.zeros((3,t.shape[0]))\n",
    "kalman = KalmanFilter(estimation, P0, Ad, Bd, env.C, Q, R)\n",
    "for i in tqdm(range(t.shape[0])):\n",
    "    new_states[i, :] = states[:, 0]\n",
    "    if not i % control_step:\n",
    "        measurement_noise = np.array(\n",
    "            [np.random.normal()*std_detection/env.zp_x,\n",
    "            np.random.normal()*std_detection/env.zp_y,\n",
    "            np.random.normal()*std_detection/env.zp_z]\n",
    "            )\n",
    "        measured_states[i,:] = env.C@states[:, 0] + measurement_noise\n",
    "        kalman.propagate_dynamics(control)\n",
    "        kalman.compute_aposteriori(measured_states[i].reshape((3,1)))\n",
    "        estimated_states[i, :] = kalman.estimates_aposteriori[int(i/control_step)][:, 0].reshape((6))\n",
    "        estimation = estimated_states[i, :].reshape((6, 1))   \n",
    "        control = -G@estimation\n",
    "        #print(control.shape)\n",
    "    else:\n",
    "        measured_states[i] = measured_states[i-1]\n",
    "        estimated_states[i, :] = estimated_states[i-1,:]\n",
    "    controls[:,i] = control[:,0]\n",
    "    states = env.step(states, control=control, delta_t=delta_t)"
   ]
  },
  {
   "cell_type": "code",
   "execution_count": 57,
   "metadata": {},
   "outputs": [
    {
     "data": {
      "image/png": "[encoded data removed]",
      "text/plain": [
       "<Figure size 245x280 with 3 Axes>"
      ]
     },
     "metadata": {},
     "output_type": "display_data"
    }
   ],
   "source": [
    "colors = ['#2E86C1', '#85C1E9', '#1B4F72']\n",
    "\n",
    "fig, (ax1, ax2, ax3) = plt.subplots(3, 1, sharex=True)\n",
    "factor = 0.7\n",
    "fig.set_size_inches(3.5*factor, 4*factor, forward=True)\n",
    "\n",
    "ax1.plot(t/1e-3, measured_states[:,0]*env.zp_x/1e-9, color=colors[0], alpha=0.5)\n",
    "ax1.plot(t/1e-3, new_states[:,0]*env.zp_x/1e-9, color=colors[0], linestyle='dashed')\n",
    "ax1.plot(t/1e-3, estimated_states[:,0]*env.zp_x/1e-9, color=colors[2])\n",
    "ax1.set_xlim([0, t.max()/1e-3])\n",
    "ax1.set_yticks([-0.75, 0, 0.75])\n",
    "ax1.grid(True, which=\"both\", ls=\"-\")\n",
    "ax1.set_ylabel(r'$x$ (n$\\textrm{m})$')\n",
    "ax1.set_ylim([-1, 1])\n",
    "\n",
    "\n",
    "\n",
    "ax2.plot(t/1e-3, measured_states[:,1]*env.zp_y/1e-9, color=colors[0], alpha=0.5)\n",
    "ax2.plot(t/1e-3, estimated_states[:,1]*env.zp_y/1e-9, color=colors[0], linestyle='dashed')\n",
    "ax2.plot(t/1e-3, new_states[:,1]*env.zp_y/1e-9, color=colors[2])\n",
    "ax2.set_ylabel(r'$y$ (n$ \\textrm{m})$')\n",
    "ax2.grid(True, which=\"both\", ls=\"-\")\n",
    "ax2.set_yticks([-0.75,0,0.75])\n",
    "ax2.set_ylim([-1, 1])\n",
    "\n",
    "\n",
    "ax3.plot(t/1e-3, measured_states[:,2]*env.zp_z/1e-9, color=colors[0], alpha=0.5)\n",
    "ax3.plot(t/1e-3, estimated_states[:,2]*env.zp_z/1e-9, color=colors[0], linestyle='dashed')\n",
    "ax3.plot(t/1e-3, new_states[:,2]*env.zp_z/1e-9, color=colors[2])\n",
    "ax3.set_ylabel(r'$z$ (n$\\textrm{m})$')\n",
    "ax3.set_xlabel(r'$t$ (ms)')\n",
    "ax3.set_ylim([-0.75, 0.75])\n",
    "#ax3.set_yticks([-1.50,0,1.50])\n",
    "ax3.tick_params(axis='y', pad=7)\n",
    "\n",
    "plt.subplots_adjust(wspace=0, hspace=0)\n",
    "plt.grid()\n",
    "plt.savefig('../../plots/Chapter 3/lqg_control_pos.pdf', dpi=300, bbox_inches = 'tight')\n",
    "plt.show()\n"
   ]
  },
  {
   "cell_type": "code",
   "execution_count": 70,
   "metadata": {},
   "outputs": [
    {
     "data": {
      "image/png": "[encoded data removed]",
      "text/plain": [
       "<Figure size 245x280 with 3 Axes>"
      ]
     },
     "metadata": {},
     "output_type": "display_data"
    }
   ],
   "source": [
    "colors = ['#2E86C1', '#85C1E9', '#1B4F72']\n",
    "\n",
    "fig, (ax1, ax2, ax3) = plt.subplots(3, 1, sharex=True)\n",
    "factor = 0.7\n",
    "fig.set_size_inches(3.5*factor, 4*factor, forward=True)\n",
    "\n",
    "ax1.plot(t/1e-3, new_states[:,3]*env.zp_px/(env._m_*1e-3), color=colors[0], linestyle='dashed')\n",
    "ax1.plot(t/1e-3, estimated_states[:,3]*env.zp_px/(env._m_*1e-3), color=colors[2])\n",
    "ax1.set_xlim([0, t.max()/1e-3])\n",
    "ax1.grid(True, which=\"both\", ls=\"-\")\n",
    "ax1.set_ylabel(r'$v_x$ ($\\textrm{mm/s})$')\n",
    "ax1.set_yticks([-0.1,0,0.1])\n",
    "ax1.set_ylim([-0.15, 0.15])\n",
    "\n",
    "\n",
    "ax2.plot(t/1e-3, estimated_states[:,4]*env.zp_py/(env._m_*1e-3), color=colors[0], linestyle='dashed')\n",
    "ax2.plot(t/1e-3, new_states[:,4]*env.zp_py/(env._m_*1e-3), color=colors[2])\n",
    "ax2.set_ylabel(r'$v_y$ ($ \\textrm{mm/s})$')\n",
    "ax2.grid(True, which=\"both\", ls=\"-\")\n",
    "ax2.set_yticks([-0.1,0,0.1])\n",
    "ax2.set_ylim([-0.15, 0.15])\n",
    "\n",
    "\n",
    "ax3.plot(t/1e-3, estimated_states[:, 5]*env.zp_pz/(env._m_*1e-3), color=colors[0], linestyle='dashed')\n",
    "ax3.plot(t/1e-3, new_states[:, 5]*env.zp_pz/(env._m_*1e-3), color=colors[2])\n",
    "ax3.set_ylabel(r'$v_z$ ($\\textrm{mm/s})$')\n",
    "ax3.set_xlabel(r'$t$ (ms)')\n",
    "ax3.set_ylim([-0.15, 0.15])\n",
    "#ax3.set_yticks([-1.50,0,1.50])\n",
    "#ax3.tick_params(axis='y', pad=7)\n",
    "\n",
    "plt.subplots_adjust(wspace=0, hspace=0)\n",
    "plt.grid()\n",
    "plt.savefig('../../plots/Chapter 3/lqg_control_vel.pdf', dpi=300, bbox_inches = 'tight')\n",
    "plt.show()"
   ]
  }
 ],
 "metadata": {
  "kernelspec": {
   "display_name": "base",
   "language": "python",
   "name": "python3"
  },
  "language_info": {
   "codemirror_mode": {
    "name": "ipython",
    "version": 3
   },
   "file_extension": ".py",
   "mimetype": "text/x-python",
   "name": "python",
   "nbconvert_exporter": "python",
   "pygments_lexer": "ipython3",
   "version": "3.8.5"
  }
 },
 "nbformat": 4,
 "nbformat_minor": 2
}
