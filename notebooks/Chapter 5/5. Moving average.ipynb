{
 "cells": [
  {
   "cell_type": "code",
   "execution_count": 1,
   "metadata": {},
   "outputs": [],
   "source": [
    "import numpy as np\n",
    "import matplotlib.pyplot as plt\n",
    "from scipy import signal"
   ]
  },
  {
   "cell_type": "code",
   "execution_count": 2,
   "metadata": {},
   "outputs": [],
   "source": [
    "import os \n",
    "os.environ[\"PATH\"] += os.pathsep + '/usr/local/bin'\n",
    "plt.rcParams.update({'font.size': 10})\n",
    "plt.rcParams['axes.linewidth'] = 1.5\n",
    "plt.rcParams['font.family'] = 'serif'\n",
    "plt.rcParams['font.serif'] = ['Times New Roman'] + plt.rcParams['font.serif']\n",
    "plt.rcParams.update({\n",
    "    \"text.usetex\": True,\n",
    "})"
   ]
  },
  {
   "cell_type": "code",
   "execution_count": 4,
   "metadata": {},
   "outputs": [],
   "source": [
    "N = 100\n",
    "f_s = 125e6\n",
    "block_a = np.zeros((N))\n",
    "block_a[0] = 1\n",
    "block_b = np.ones(N)"
   ]
  },
  {
   "cell_type": "code",
   "execution_count": 5,
   "metadata": {},
   "outputs": [
    {
     "ename": "NameError",
     "evalue": "name 'b_z' is not defined",
     "output_type": "error",
     "traceback": [
      "\u001b[0;31m---------------------------------------------------------------------------\u001b[0m",
      "\u001b[0;31mNameError\u001b[0m                                 Traceback (most recent call last)",
      "Cell \u001b[0;32mIn [5], line 3\u001b[0m\n\u001b[1;32m      1\u001b[0m colors \u001b[38;5;241m=\u001b[39m [\u001b[38;5;124m'\u001b[39m\u001b[38;5;124m#2E86C1\u001b[39m\u001b[38;5;124m'\u001b[39m, \u001b[38;5;124m'\u001b[39m\u001b[38;5;124m#85C1E9\u001b[39m\u001b[38;5;124m'\u001b[39m, \u001b[38;5;124m'\u001b[39m\u001b[38;5;124m#1B4F72\u001b[39m\u001b[38;5;124m'\u001b[39m]\n\u001b[0;32m----> 3\u001b[0m freq_z, h_z \u001b[38;5;241m=\u001b[39m signal\u001b[38;5;241m.\u001b[39mfreqz(\u001b[43mb_z\u001b[49m, a_z, fs\u001b[38;5;241m=\u001b[39mf_s, worN\u001b[38;5;241m=\u001b[39m\u001b[38;5;28mint\u001b[39m(\u001b[38;5;241m1e6\u001b[39m))\n\u001b[1;32m      4\u001b[0m freq_xy, h_xy \u001b[38;5;241m=\u001b[39m signal\u001b[38;5;241m.\u001b[39mfreqz(b_xy, a_xy, fs\u001b[38;5;241m=\u001b[39mf_s, worN\u001b[38;5;241m=\u001b[39m\u001b[38;5;28mint\u001b[39m(\u001b[38;5;241m1e6\u001b[39m))\n\u001b[1;32m      6\u001b[0m fig, (ax1, ax2) \u001b[38;5;241m=\u001b[39m plt\u001b[38;5;241m.\u001b[39msubplots(\u001b[38;5;241m2\u001b[39m,\u001b[38;5;241m1\u001b[39m, sharex\u001b[38;5;241m=\u001b[39m\u001b[38;5;28;01mTrue\u001b[39;00m)\n",
      "\u001b[0;31mNameError\u001b[0m: name 'b_z' is not defined"
     ]
    }
   ],
   "source": [
    "colors = ['#2E86C1', '#85C1E9', '#1B4F72']\n",
    "\n",
    "freq_z, h_z = signal.freqz(block_b, block_a, fs=f_s, worN=int(1e6))\n",
    "\n",
    "fig, (ax1, ax2) = plt.subplots(2,1, sharex=True)\n",
    "factor = 1\n",
    "fig.set_size_inches(2.75*factor, 2*factor, forward=True)\n",
    "\n",
    "ax1.plot(freq_z/1e3, 20*np.log10(abs(h_z)), color=colors[2])\n",
    "ax1.set_xlim([0,200000])\n",
    "ax1.grid(True, which=\"both\", ls=\"-\")\n",
    "ax1.set_ylabel(r'Mag (dB)')\n",
    "\n",
    "\n",
    "ax2.plot(freq_z/1e3, 180*np.unwrap(np.angle(h_z))/np.pi, color=colors[2])\n",
    "ax2.set_xlim([0,200])\n",
    "ax2.set_ylim([-100,100])\n",
    "ax2.set_yticks([-90, 0, 90])\n",
    "ax2.grid(True, which=\"both\", ls=\"-\")\n",
    "ax2.set_ylabel(r'Phase $({}^\\circ)$')\n",
    "ax2.set_xlabel(r\"$\\Omega/2\\pi $ (kHz)\")\n",
    "\n",
    "ax1.legend([r'$H_{z}$',  r'$H_{xy}$'], loc='upper center', bbox_to_anchor=(0.5, 1.5),\n",
    "          ncol=2, fancybox=True, shadow=True)\n",
    "\n",
    "#fig.legend(handles, labels, loc='upper center')\n",
    "plt.subplots_adjust(wspace=0, hspace=0)\n",
    "#plt.savefig('../../plots/Chapter 5/filter_transfer_function.pdf', dpi=300, bbox_inches = 'tight')\n",
    "plt.show()"
   ]
  },
  {
   "cell_type": "code",
   "execution_count": null,
   "metadata": {},
   "outputs": [],
   "source": []
  },
  {
   "cell_type": "code",
   "execution_count": null,
   "metadata": {},
   "outputs": [],
   "source": []
  }
 ],
 "metadata": {
  "kernelspec": {
   "display_name": "base",
   "language": "python",
   "name": "python3"
  },
  "language_info": {
   "codemirror_mode": {
    "name": "ipython",
    "version": 3
   },
   "file_extension": ".py",
   "mimetype": "text/x-python",
   "name": "python",
   "nbconvert_exporter": "python",
   "pygments_lexer": "ipython3",
   "version": "3.8.5"
  }
 },
 "nbformat": 4,
 "nbformat_minor": 2
}
