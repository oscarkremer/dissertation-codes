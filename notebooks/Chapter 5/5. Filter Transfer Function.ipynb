{
 "cells": [
  {
   "cell_type": "code",
   "execution_count": 1,
   "metadata": {},
   "outputs": [],
   "source": [
    "import numpy as np\n",
    "import matplotlib.pyplot as plt\n",
    "from scipy import signal"
   ]
  },
  {
   "cell_type": "code",
   "execution_count": 2,
   "metadata": {},
   "outputs": [],
   "source": [
    "plt.rcParams.update({'font.size': 10})\n",
    "plt.rcParams['axes.linewidth'] = 1.5\n",
    "plt.rcParams['font.family'] = 'serif'\n",
    "plt.rcParams['font.serif'] = ['Times New Roman'] + plt.rcParams['font.serif']\n",
    "plt.rcParams.update({\n",
    "    \"text.usetex\": True,\n",
    "})"
   ]
  },
  {
   "cell_type": "code",
   "execution_count": 6,
   "metadata": {},
   "outputs": [],
   "source": [
    "fs=125e6/8\n",
    "R=0.999\n",
    "a1=0\n",
    "a2=R*R\n",
    "b0=1\n",
    "b1=R-1\n",
    "b2=-R\n",
    "block_a = np.array([1,-a1,-a2])\n",
    "block_b = np.array([b0, b1, b2])"
   ]
  },
  {
   "cell_type": "code",
   "execution_count": 13,
   "metadata": {},
   "outputs": [],
   "source": [
    "def compute_complete_H(a_dc, b_dc, a, b):\n",
    "    a_full = np.ones((5))\n",
    "    a_full[1] = a_dc[1]+a[1]\n",
    "    a_full[2] = a_dc[2] + a_dc[1]*a[1] + a[2]\n",
    "    a_full[3] = a[1]*a_dc[2] + a[2]*a_dc[1]\n",
    "    a_full[4] = a_dc[2]*a[2]\n",
    "\n",
    "    b_full = np.ones((5))\n",
    "    b_full[0] = b_dc[0]*b[0]\n",
    "    b_full[1] = b_dc[1]*b[0]+b_dc[0]*b[1]\n",
    "    b_full[2] = b_dc[2]*b[0] + b_dc[1]*b[1] + b_dc[0]*b[2]\n",
    "    b_full[3] = b_dc[1]*b[2] + b_dc[2]*b[1]\n",
    "    b_full[4] = b_dc[2]*b[2]\n",
    "    return a_full, b_full\n",
    "    "
   ]
  },
  {
   "cell_type": "code",
   "execution_count": 42,
   "metadata": {},
   "outputs": [],
   "source": [
    "f_cz = 100e3\n",
    "f_s = 125e6/8\n",
    "Q=2\n",
    "b_z, a_z = signal.iirnotch(f_cz, Q, f_s)\n",
    "\n",
    "f_cxy = 30e3\n",
    "f_s = 125e6/8\n",
    "Q=3\n",
    "b_xy, a_xy = signal.iirnotch(f_cxy, Q, f_s)\n"
   ]
  },
  {
   "cell_type": "code",
   "execution_count": 43,
   "metadata": {},
   "outputs": [
    {
     "data": {
      "text/plain": [
       "(array([ 1.        , -1.97849254,  0.98009326]),\n",
       " array([ 0.99004663, -1.97849254,  0.99004663]))"
      ]
     },
     "execution_count": 43,
     "metadata": {},
     "output_type": "execute_result"
    }
   ],
   "source": [
    "a_z, b_z"
   ]
  },
  {
   "cell_type": "code",
   "execution_count": 44,
   "metadata": {},
   "outputs": [],
   "source": [
    "a_full_z, b_full = compute_complete_H(block_a, block_b, a_z, b_z)"
   ]
  },
  {
   "cell_type": "code",
   "execution_count": null,
   "metadata": {},
   "outputs": [],
   "source": []
  },
  {
   "cell_type": "code",
   "execution_count": 46,
   "metadata": {},
   "outputs": [
    {
     "name": "stderr",
     "output_type": "stream",
     "text": [
      "/var/folders/fy/4wjvjmc95f1fv0gy4d27l6_h0000gn/T/ipykernel_41585/1396237177.py:10: RuntimeWarning: divide by zero encountered in log10\n",
      "  ax1.plot(freq_z/1e3, 20*np.log10(abs(h_z)), color=colors[2])\n",
      "/var/folders/fy/4wjvjmc95f1fv0gy4d27l6_h0000gn/T/ipykernel_41585/1396237177.py:11: RuntimeWarning: divide by zero encountered in log10\n",
      "  ax1.plot(freq_xy/1e3, 20*np.log10(abs(h_xy)), color=colors[2], linestyle='dashed')\n"
     ]
    },
    {
     "data": {
      "image/png": "[encoded data removed]",
      "text/plain": [
       "<Figure size 275x200 with 2 Axes>"
      ]
     },
     "metadata": {},
     "output_type": "display_data"
    }
   ],
   "source": [
    "colors = ['#2E86C1', '#85C1E9', '#1B4F72']\n",
    "\n",
    "freq_z, h_z = signal.freqz(b_z, a_z, fs=f_s, worN=int(1e6))\n",
    "freq_xy, h_xy = signal.freqz(b_xy, a_xy, fs=f_s, worN=int(1e6))\n",
    "\n",
    "fig, (ax1, ax2) = plt.subplots(2,1, sharex=True)\n",
    "factor = 1\n",
    "fig.set_size_inches(2.75*factor, 2*factor, forward=True)\n",
    "\n",
    "ax1.plot(freq_z/1e3, 20*np.log10(abs(h_z)), color=colors[2])\n",
    "ax1.plot(freq_xy/1e3, 20*np.log10(abs(h_xy)), color=colors[2], linestyle='dashed')\n",
    "ax1.set_xlim([0,200000])\n",
    "ax1.grid(True, which=\"both\", ls=\"-\")\n",
    "ax1.set_ylabel(r'Mag (dB)')\n",
    "\n",
    "\n",
    "ax2.plot(freq_z/1e3, 180*np.unwrap(np.angle(h_z))/np.pi, color=colors[2])\n",
    "ax2.plot(freq_xy/1e3, 180*np.unwrap(np.angle(h_xy))/np.pi, color=colors[2], linestyle='dashed')\n",
    "ax2.set_xlim([0,200])\n",
    "ax2.set_ylim([-100,100])\n",
    "ax2.set_yticks([-90, 0, 90])\n",
    "ax2.grid(True, which=\"both\", ls=\"-\")\n",
    "ax2.set_ylabel(r'Phase $({}^\\circ)$')\n",
    "ax2.set_xlabel(r\"$\\Omega/2\\pi $ (kHz)\")\n",
    "\n",
    "ax1.legend([r'$H_{z}$',  r'$H_{xy}$'], loc='upper center', bbox_to_anchor=(0.5, 1.5),\n",
    "          ncol=2, fancybox=True, shadow=True)\n",
    "\n",
    "#fig.legend(handles, labels, loc='upper center')\n",
    "plt.subplots_adjust(wspace=0, hspace=0)\n",
    "plt.savefig('../../plots/Chapter 5/filter_transfer_function.pdf', dpi=300, bbox_inches = 'tight')\n",
    "plt.show()"
   ]
  },
  {
   "cell_type": "code",
   "execution_count": null,
   "metadata": {},
   "outputs": [],
   "source": []
  },
  {
   "cell_type": "code",
   "execution_count": null,
   "metadata": {},
   "outputs": [],
   "source": []
  }
 ],
 "metadata": {
  "kernelspec": {
   "display_name": "base",
   "language": "python",
   "name": "python3"
  },
  "language_info": {
   "codemirror_mode": {
    "name": "ipython",
    "version": 3
   },
   "file_extension": ".py",
   "mimetype": "text/x-python",
   "name": "python",
   "nbconvert_exporter": "python",
   "pygments_lexer": "ipython3",
   "version": "3.8.5"
  }
 },
 "nbformat": 4,
 "nbformat_minor": 2
}
