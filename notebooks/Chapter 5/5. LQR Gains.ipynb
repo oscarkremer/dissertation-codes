{
 "cells": [
  {
   "cell_type": "code",
   "execution_count": 36,
   "metadata": {},
   "outputs": [],
   "source": [
    "import numpy as np\n",
    "import scipy\n",
    "import matplotlib.pyplot as plt\n",
    "from tqdm import tqdm\n",
    "from control import lqr, dare\n",
    "from dissertation_codes.environment import Particle3D\n",
    "from dissertation_codes.utils import compute_gamma"
   ]
  },
  {
   "cell_type": "code",
   "execution_count": 37,
   "metadata": {},
   "outputs": [],
   "source": [
    "plt.rcParams.update({'font.size': 10})\n",
    "plt.rcParams['axes.linewidth'] = 1.5\n",
    "plt.rcParams['font.family'] = 'serif'\n",
    "plt.rcParams['font.serif'] = ['Times New Roman'] + plt.rcParams['font.serif']\n",
    "plt.rcParams.update({\n",
    "    \"text.usetex\": True,\n",
    "})"
   ]
  },
  {
   "cell_type": "code",
   "execution_count": 63,
   "metadata": {},
   "outputs": [],
   "source": [
    "def digital_converter(signal, total_bit, frac_bit):\n",
    "    print(signal)\n",
    "    resolution = 2**(-frac_bit)\n",
    "    if abs(int(signal/resolution))> 2**19:\n",
    "        print(signal)\n",
    "        print(abs(int(signal/resolution)))\n",
    "        raise ValueError\n",
    "    if signal >= 0:\n",
    "        return int(signal/resolution)\n",
    "    else:\n",
    "        return int(2**(total_bit)-int(-signal/resolution))"
   ]
  },
  {
   "cell_type": "code",
   "execution_count": 64,
   "metadata": {},
   "outputs": [
    {
     "name": "stdout",
     "output_type": "stream",
     "text": [
      "0.0\n",
      "-0.3496480857766915\n",
      "0.7972351593680843\n",
      "-136.4504851597972\n",
      "119.13602798775388\n",
      "1.5031225180984482\n",
      "-1.1504723217220065\n",
      "122.22291216959721\n",
      "148.22721617588383\n"
     ]
    },
    {
     "data": {
      "text/plain": [
       "array([[ 65178.,    816.,      0., -74189., 121995.,      0.],\n",
       "       [  1539.,  64358.,      0., 125156., 151784.,      0.],\n",
       "       [     0.,      0.,      0.,      0.,      0.,      0.]])"
      ]
     },
     "execution_count": 64,
     "metadata": {},
     "output_type": "execute_result"
    }
   ],
   "source": [
    "calib_x = 686554\n",
    "calib_y = 707836\n",
    "calib_z = 106836\n",
    "omegas = [2*np.pi*96236.747, 2*np.pi*102000.8279, 2*np.pi*31517.99568]\n",
    "gamma = compute_gamma(143e-9/2, 0, rho=2200, T=293)\n",
    "print(gamma)\n",
    "\n",
    "elec_xx = 2.83e-16\n",
    "elec_yx = 2.18e-16\n",
    "elec_xy = 2.21e-16\n",
    "elec_yy = 2.36e-16\n",
    "\n",
    "m = 2200*4*np.pi*np.power((143e-9)/2, 3)/3\n",
    "B = (1/m)*np.array([[0, 0, 0],\n",
    "                        [0,0,0],\n",
    "                        [0,0,0],\n",
    "                               [-1, elec_yx/elec_xx, 0],\n",
    "                               [elec_xy/elec_xx, elec_yy/elec_xx, 0],\n",
    "                               [0, 0, 1]])\n",
    "\n",
    "\n",
    "A = np.array([[0, 0, 0, 1, 0, 0],\n",
    "              [0, 0, 0, 0, 1, 0],\n",
    "              [0, 0, 0, 0, 0, 1],\n",
    "              [-omegas[0]**2, 0, 0, -gamma, 0, 0],\n",
    "              [0, -omegas[1]**2, 0, 0, -gamma, 0],\n",
    "              [0, 0, -omegas[2]**2, 0, 0, -gamma]\n",
    "])\n",
    "\n",
    "g_fb = 0.01\n",
    "\n",
    "cost_states = m*np.array([[omegas[0]**2, 0, 0, 0, 0, 0],\n",
    "                        [0, omegas[1]**2, 0, 0, 0, 0],\n",
    "                        [0, 0, omegas[2]**2, 0, 0, 0],\n",
    "                        [0, 0, 0, 1, 0, 0],\n",
    "                        [0, 0, 0, 0, 1, 0],\n",
    "                        [0, 0, 0, 0, 0, 1]])\n",
    "control_effort = np.array([[1/(omegas[0]**2), 0, 0],\n",
    "                        [0, 1/(omegas[1]**2), 0],\n",
    "                        [0, 0, 1/(omegas[2]**2)]])\n",
    "Ad = scipy.linalg.expm(A *64e-9)\n",
    "Bd = B * 64e-9\n",
    "X, L, G = dare(Ad, Bd, cost_states, (1/(m*g_fb))*control_effort)\n",
    "G_rp_bit = np.zeros((3, 6))\n",
    "G_rp_bit[0,0] = digital_converter(G[0,0]/(5*elec_xx*calib_x), 16, 10)\n",
    "G_rp_bit[0,1] = digital_converter(G[0,1]/(5*calib_y*elec_xx), 16, 10)\n",
    "G_rp_bit[0,3] = digital_converter(G[0,3]*omegas[0]/(5*calib_x*elec_xx), 16, 10)\n",
    "G_rp_bit[0,4] = digital_converter(G[0,4]*omegas[1]/(5*calib_y*elec_xx), 16, 10)\n",
    "G_rp_bit[1,0] = digital_converter(G[1,0]/(5*calib_x*elec_xx), 16, 10)\n",
    "G_rp_bit[1,1] = digital_converter(G[1,1]/(5*calib_y*elec_xx), 16, 10)\n",
    "G_rp_bit[1,3] = digital_converter(G[1,3]*omegas[0]/(5*calib_x*elec_xx), 16, 10)\n",
    "G_rp_bit[1,4] = digital_converter(G[1,4]*omegas[1]/(5*calib_y*elec_xx), 16, 10)\n",
    "G_rp_bit"
   ]
  },
  {
   "cell_type": "code",
   "execution_count": 60,
   "metadata": {},
   "outputs": [
    {
     "data": {
      "text/plain": [
       "array([[-3.39673993e-10,  7.98501121e-10,  0.00000000e+00,\n",
       "        -2.19222650e-13,  1.86186693e-13,  0.00000000e+00],\n",
       "       [ 1.46024431e-09, -1.15229920e-09,  0.00000000e+00,\n",
       "         1.96364495e-13,  2.31650624e-13,  0.00000000e+00],\n",
       "       [ 0.00000000e+00,  0.00000000e+00,  4.21772563e-10,\n",
       "         0.00000000e+00,  0.00000000e+00,  9.42286558e-14]])"
      ]
     },
     "execution_count": 60,
     "metadata": {},
     "output_type": "execute_result"
    }
   ],
   "source": [
    "calib_x = 686554\n",
    "calib_y = 707836\n",
    "calib_z = 106836\n",
    "omegas = [2*np.pi*96236.747, 2*np.pi*102000.8279, 2*np.pi*31517.99568]\n",
    "gamma = compute_gamma(143e-9/2, 0, rho=2200, T=293)\n",
    "elec_xx = 2.83e-16\n",
    "elec_yx = 2.18e-16\n",
    "elec_xy = 2.21e-16\n",
    "elec_yy = 2.36e-16\n",
    "m = 2200*4*np.pi*np.power((143e-9)/2, 3)/3\n",
    "B = (1/m)*np.array([[0, 0, 0],\n",
    "                        [0,0,0],\n",
    "                        [0,0,0],\n",
    "                            [-1, elec_yx/elec_xx, 0],\n",
    "                            [elec_xy/elec_xx, elec_yy/elec_xx, 0],\n",
    "                            [0, 0, 1]])\n",
    "A = np.array([[0, 0, 0, 1, 0, 0],\n",
    "            [0, 0, 0, 0, 1, 0],\n",
    "            [0, 0, 0, 0, 0, 1],\n",
    "            [-omegas[0]**2, 0, 0, -gamma, 0, 0],\n",
    "            [0, -omegas[1]**2, 0, 0, -gamma, 0],\n",
    "            [0, 0, -omegas[2]**2, 0, 0, -gamma]\n",
    "])\n",
    "g_fb = 0.01\n",
    "\n",
    "cost_states = m*np.array([[omegas[0]**2, 0, 0, 0, 0, 0],\n",
    "                        [0, omegas[1]**2, 0, 0, 0, 0],\n",
    "                        [0, 0, omegas[2]**2, 0, 0, 0],\n",
    "                        [0, 0, 0, 1, 0, 0],\n",
    "                        [0, 0, 0, 0, 1, 0],\n",
    "                        [0, 0, 0, 0, 0, 1]])\n",
    "control_effort = np.array([[1/(omegas[0]**2), 0, 0],\n",
    "                        [0, 1/(omegas[1]**2), 0],\n",
    "                        [0, 0, 1/(omegas[2]**2)]])\n",
    "\n",
    "Ad = scipy.linalg.expm(A *64e-9)\n",
    "Bd = B * 64e-9\n",
    "X, L, G = dare(Ad, Bd, cost_states, (1/(m*g_fb))*control_effort)\n",
    "G"
   ]
  },
  {
   "cell_type": "code",
   "execution_count": 49,
   "metadata": {},
   "outputs": [],
   "source": [
    "def compute_g(pressure):\n",
    "    calib_x = 686554\n",
    "    calib_y = 707836\n",
    "    calib_z = 106836\n",
    "    omegas = [2*np.pi*96236.747, 2*np.pi*102000.8279, 2*np.pi*31517.99568]\n",
    "    gamma = compute_gamma(143e-9/2, pressure, rho=2200, T=293)\n",
    "    elec_xx = 2.83e-16\n",
    "    elec_yx = 2.18e-16\n",
    "    elec_xy = 2.21e-16\n",
    "    elec_yy = 2.36e-16\n",
    "    m = 2200*4*np.pi*np.power((143e-9)/2, 3)/3\n",
    "    B = (1/m)*np.array([[0, 0, 0],\n",
    "                            [0,0,0],\n",
    "                            [0,0,0],\n",
    "                                [-1, elec_yx/elec_xx, 0],\n",
    "                                [elec_xy/elec_xx, elec_yy/elec_xx, 0],\n",
    "                                [0, 0, 1]])\n",
    "    A = np.array([[0, 0, 0, 1, 0, 0],\n",
    "                [0, 0, 0, 0, 1, 0],\n",
    "                [0, 0, 0, 0, 0, 1],\n",
    "                [-omegas[0]**2, 0, 0, -gamma, 0, 0],\n",
    "                [0, -omegas[1]**2, 0, 0, -gamma, 0],\n",
    "                [0, 0, -omegas[2]**2, 0, 0, -gamma]\n",
    "    ])\n",
    "    g_fb = 0.01\n",
    "\n",
    "    cost_states = m*np.array([[omegas[0]**2, 0, 0, 0, 0, 0],\n",
    "                            [0, omegas[1]**2, 0, 0, 0, 0],\n",
    "                            [0, 0, omegas[2]**2, 0, 0, 0],\n",
    "                            [0, 0, 0, 1, 0, 0],\n",
    "                            [0, 0, 0, 0, 1, 0],\n",
    "                            [0, 0, 0, 0, 0, 1]])\n",
    "    control_effort = np.array([[1/(omegas[0]**2), 0, 0],\n",
    "                            [0, 1/(omegas[1]**2), 0],\n",
    "                            [0, 0, 1/(omegas[2]**2)]])\n",
    "\n",
    "    Ad = scipy.linalg.expm(A *64e-9)\n",
    "    Bd = B * 64e-9\n",
    "    X, L, G = dare(Ad, Bd, cost_states, (1/(m*g_fb))*control_effort)\n",
    "    return G"
   ]
  },
  {
   "cell_type": "code",
   "execution_count": 56,
   "metadata": {},
   "outputs": [
    {
     "data": {
      "text/plain": [
       "array([[-3.39673995e-10,  7.98501118e-10,  0.00000000e+00,\n",
       "        -2.19222650e-13,  1.86186693e-13,  0.00000000e+00],\n",
       "       [ 1.46024431e-09, -1.15229920e-09,  0.00000000e+00,\n",
       "         1.96364495e-13,  2.31650624e-13,  0.00000000e+00],\n",
       "       [ 0.00000000e+00,  0.00000000e+00,  4.21772563e-10,\n",
       "         0.00000000e+00,  0.00000000e+00,  9.42286558e-14]])"
      ]
     },
     "execution_count": 56,
     "metadata": {},
     "output_type": "execute_result"
    }
   ],
   "source": [
    "pressures = np.logspace(-8, 3, 100)\n",
    "G_pressures = np.array([compute_g(pressure) for pressure in pressures])\n",
    "G_pressures[0]"
   ]
  },
  {
   "cell_type": "code",
   "execution_count": 41,
   "metadata": {},
   "outputs": [
    {
     "data": {
      "image/png": "[encoded data removed]",
      "text/plain": [
       "<Figure size 245x280 with 2 Axes>"
      ]
     },
     "metadata": {},
     "output_type": "display_data"
    }
   ],
   "source": [
    "fig, (ax1, ax2) = plt.subplots(2, 1, sharex=True)\n",
    "factor = 0.7\n",
    "fig.set_size_inches(3.5*factor, 4*factor, forward=True)\n",
    "\n",
    "colors = ['#2E86C1', '#85C1E9', '#1B4F72']\n",
    "\n",
    "\n",
    "\n",
    "ax1.plot(pressures/100, G_pressures[:,0,0]/1e-9, label=r'$xx$', color=colors[2])\n",
    "ax1.plot(pressures/100, G_pressures[:,0,1]/1e-9, label=r'$xy$', linestyle='dotted', color=colors[2])\n",
    "ax1.plot(pressures/100, G_pressures[:,1,0]/1e-9, label=r'$yx$', linestyle='dashed', color=colors[2])\n",
    "ax1.plot(pressures/100, G_pressures[:,1,1]/1e-9, label=r'$yy$', linestyle='-.', color=colors[2])\n",
    "ax1.set_xscale('log')\n",
    "ax1.grid(True, which=\"both\", ls=\"-\")\n",
    "ax1.set_xlabel('Pressure (mbar)')\n",
    "ax1.set_ylabel(r'$k_{p,ij}$ (nN/m)', labelpad=12)\n",
    "ax1.legend(loc='upper center', bbox_to_anchor=(0.5, 1.45),\n",
    "          ncol=4, fancybox=True, shadow=True)\n",
    "\n",
    "\n",
    "\n",
    "\n",
    "ax2.plot(pressures/100, G_pressures[:,0,3]/1e-12, color=colors[2])\n",
    "ax2.plot(pressures/100, G_pressures[:,0,4]/1e-12, linestyle='dotted', color=colors[2])\n",
    "ax2.plot(pressures/100, G_pressures[:,1,3]/1e-12, linestyle='dashed', color=colors[2])\n",
    "ax2.plot(pressures/100, G_pressures[:,1,4]/1e-12, linestyle='-.', color=colors[2])\n",
    "ax2.set_xscale('log')\n",
    "ax2.grid(True, which=\"both\", ls=\"-\")\n",
    "ax2.invert_xaxis()\n",
    "ax2.set_xlabel('Pressure (mbar)')\n",
    "ax2.set_ylabel(r'$k_{d,ij}$ (pN$\\cdot$s/m)')\n",
    "ax2.set_xlim([pressures[-1]/100, pressures[0]/100])\n",
    "plt.subplots_adjust(wspace=0, hspace=0)\n",
    "\n",
    "#plt.savefig('../../plots/Chapter 5/electrodes_calib.pdf', dpi=300, bbox_inches = 'tight')\n",
    "\n",
    "\n",
    "\n",
    "\n",
    "#plt.ylabel(r'$T_{\\rm{eff}}$ (K)')\n",
    "#plt.xlim([2.3, 4e-5])\n",
    "#plt.ylim([0.3, 400])\n",
    "#plt.legend()\n",
    "plt.savefig('../../plots/Chapter 5/gains_vs_pressures.pdf', dpi=300, bbox_inches = 'tight')\n",
    "plt.show()"
   ]
  },
  {
   "cell_type": "code",
   "execution_count": null,
   "metadata": {},
   "outputs": [],
   "source": []
  },
  {
   "cell_type": "code",
   "execution_count": 229,
   "metadata": {},
   "outputs": [
    {
     "data": {
      "text/plain": [
       "array([[ 2.23842943e+00,  3.86876968e+00,  0.00000000e+00,\n",
       "         2.26781869e+00,  3.91516665e+00,  0.00000000e+00],\n",
       "       [-3.72843345e+00, -6.43764503e+00,  0.00000000e+00,\n",
       "        -3.77323620e+00, -6.51411641e+00,  0.00000000e+00],\n",
       "       [ 0.00000000e+00,  0.00000000e+00,  7.42147682e+03,\n",
       "         0.00000000e+00,  0.00000000e+00,  1.98029546e+06]])"
      ]
     },
     "execution_count": 229,
     "metadata": {},
     "output_type": "execute_result"
    }
   ],
   "source": [
    "G_rp"
   ]
  },
  {
   "cell_type": "code",
   "execution_count": 91,
   "metadata": {},
   "outputs": [
    {
     "name": "stderr",
     "output_type": "stream",
     "text": [
      "  0%|          | 0/31020 [00:00<?, ?it/s]/var/folders/fy/4wjvjmc95f1fv0gy4d27l6_h0000gn/T/ipykernel_48909/3307748872.py:7: RuntimeWarning: overflow encountered in matmul\n",
      "  states = env.step(states, control=-G_lqr@states, delta_t=delta_t, bypass_noise=True)\n",
      "/Users/oscarkremer/miniconda3/lib/python3.8/site-packages/dissertation_codes-0.0.1-py3.8.egg/dissertation_codes/environment/particle3D.py:54: RuntimeWarning: invalid value encountered in matmul\n",
      "/var/folders/fy/4wjvjmc95f1fv0gy4d27l6_h0000gn/T/ipykernel_48909/3307748872.py:7: RuntimeWarning: invalid value encountered in matmul\n",
      "  states = env.step(states, control=-G_lqr@states, delta_t=delta_t, bypass_noise=True)\n",
      "100%|██████████| 31020/31020 [00:01<00:00, 29774.16it/s]\n"
     ]
    }
   ],
   "source": [
    "states = 200*np.random.normal(size=(6,1))\n",
    "new_states = np.zeros((N, 6)) \n",
    "\n",
    "for i in tqdm(range(t.shape[0])):\n",
    "    new_states[i,:] = states[:,0]\n",
    "    #print(states.shape)\n",
    "    states = env.step(states, control=-G_lqr@states, delta_t=delta_t, bypass_noise=True)\n",
    "    #print(G_lqr@states)"
   ]
  },
  {
   "cell_type": "code",
   "execution_count": 6,
   "metadata": {},
   "outputs": [
    {
     "data": {
      "image/png": "[encoded data removed]",
      "text/plain": [
       "<Figure size 280x210 with 1 Axes>"
      ]
     },
     "metadata": {},
     "output_type": "display_data"
    }
   ],
   "source": [
    "colors = ['#2E86C1', '#85C1E9', '#1B4F72']\n",
    "fig = plt.figure(figsize=(5.4*1.3*10, 10*4.2))\n",
    "factor = 0.7\n",
    "fig.set_size_inches(4*factor, 3*factor, forward=True)\n",
    "plt.plot(1e9*env.zp_x*new_states[:, 0], 1e6*env.zp_px*new_states[:, 3]/env._m_, color=colors[2])\n",
    "plt.plot(1e9*env.zp_y*new_states[:, 1], 1e6*env.zp_py*new_states[:, 4]/env._m_, color=colors[2], linestyle='dashed')\n",
    "plt.plot(1e9*env.zp_z*new_states[700:, 2], 1e6*env.zp_pz*new_states[700:, 5]/env._m_, color=colors[2], linestyle='dotted')\n",
    "plt.xlim([-3.5e-1, 3.5e-1])\n",
    "plt.grid()\n",
    "plt.ylim([-70, 70])\n",
    "plt.legend([r'$x$', r'$y$', r'$z$'], loc='lower left')\n",
    "plt.xlabel(r'$r_i$ (nm)')\n",
    "plt.ylabel(r'$v_i$ $(\\mu\\textrm{m}/\\textrm{s})$')\n",
    "plt.savefig('../../plots/Chapter 3/state_space_trajectory_coupled_actuator.pdf', dpi=300, bbox_inches = 'tight')\n",
    "plt.show()\n"
   ]
  },
  {
   "cell_type": "code",
   "execution_count": 7,
   "metadata": {},
   "outputs": [
    {
     "name": "stderr",
     "output_type": "stream",
     "text": [
      "100it [01:29,  1.12it/s]\n"
     ]
    }
   ],
   "source": [
    "gain_num = 100\n",
    "g_fbs = np.logspace(-2, 1, gain_num)\n",
    "final_states = np.zeros((gain_num, 6)) \n",
    "control_sig = np.zeros((gain_num, 3))\n",
    "for j, g_fb in tqdm(enumerate(g_fbs)):\n",
    "    (G_lqr, S, E) = lqr(env.A, env.B, cost_states, control_effort/(g_fb**2))\n",
    "    states = 100*np.ones(shape=(6,1))\n",
    "    for i in range(t.shape[0]):\n",
    "        states = env.step(states, control=-G_lqr@states, delta_t=delta_t, bypass_noise=True)\n",
    "    final_states[j, :]  = states[:, 0]\n",
    "    control_sig[j, :] = G_lqr@states[:,0]"
   ]
  },
  {
   "cell_type": "code",
   "execution_count": 8,
   "metadata": {},
   "outputs": [],
   "source": [
    "def compute_axis_cost(x, v, weight_x, weight_v, control_effort, control_sig):\n",
    "    return np.power(x,2)*weight_x+np.power(v,2)*weight_v + control_effort*np.power(control_sig, 2)"
   ]
  },
  {
   "cell_type": "code",
   "execution_count": 9,
   "metadata": {},
   "outputs": [],
   "source": [
    "j = np.zeros((g_fbs.shape[0],4))\n",
    "for i in range(final_states.shape[0]):\n",
    "    x, y, z, px, py, pz = final_states[i,:].ravel()\n",
    "    ux, uy, uz = control_sig[i,:].ravel()\n",
    "    j[i,0]  = 0.5*final_states[i,:].T@cost_states@final_states[i,:]+0.5*control_sig[i,:].T@control_effort/(g_fbs[i]**2)@control_sig[i,:]\n",
    "    j[i,1]  = 0.5*compute_axis_cost(x, px, cost_states[0,0], cost_states[3,3], control_effort[0,0]/(g_fbs[i]**2), control_sig[i, 0])\n",
    "    j[i,2]  = 0.5*compute_axis_cost(y, py, cost_states[1,1], cost_states[4,4], control_effort[1,1]/(g_fbs[i]**2), control_sig[i, 1])\n",
    "    j[i,3]  = 0.5*compute_axis_cost(z, pz, cost_states[2,2], cost_states[5,5], control_effort[2,2]/(g_fbs[i]**2), control_sig[i, 2])\n",
    "\n",
    "#    j[i,2]  = 0.5*final_states[i,:].T@cost_states@final_states[i,:]+0.5*control_sig[i,:].T@control_effort/(g_fb**2)@control_sig[i,:]\n",
    "#    j[i,3]  = 0.5*final_states[i,:].T@cost_states@final_states[i,:]+0.5*control_sig[i,:].T@control_effort/(g_fb**2)@control_sig[i,:]"
   ]
  },
  {
   "cell_type": "code",
   "execution_count": 10,
   "metadata": {},
   "outputs": [
    {
     "data": {
      "image/png": "[encoded data removed]",
      "text/plain": [
       "<Figure size 245x210 with 1 Axes>"
      ]
     },
     "metadata": {},
     "output_type": "display_data"
    }
   ],
   "source": [
    "colors = ['#2E86C1', '#85C1E9', '#1B4F72']\n",
    "fig = plt.figure(figsize=(5.4*1.3*10, 10*4.2))\n",
    "factor = 0.7\n",
    "fig.set_size_inches(3.5*factor, 3*factor, forward=True)\n",
    "plt.plot(g_fbs, j[:,0]/max(j[:,0]), color=colors[2])\n",
    "plt.plot(g_fbs, j[:,1]/max(j[:,0]), color=colors[0], linestyle='solid')\n",
    "plt.plot(g_fbs, j[:,2]/max(j[:,0]), color=colors[0], linestyle='dashed')\n",
    "plt.plot(g_fbs, j[:,3]/max(j[:,0]), color=colors[0], linestyle='dotted')\n",
    "plt.xlim([0.01, 0.2])\n",
    "plt.ylim([0,1])\n",
    "plt.xlabel(r'$g_{fb}$')\n",
    "plt.ylabel(r'$\\bar{L}/\\bar{L}_{\\rm{max}}$')\n",
    "#plt.yscale('log')\n",
    "plt.grid()\n",
    "plt.xscale('log')\n",
    "plt.legend([r'$\\bar{L}$', r'$\\bar{L}_x$', r'$\\bar{L}_y$', r'$\\bar{L}_z$'])\n",
    "plt.savefig('../../plots/Chapter 3/costs_lqr_coupled_actuator.pdf', dpi=300, bbox_inches = 'tight')\n",
    "\n",
    "plt.show()"
   ]
  },
  {
   "cell_type": "code",
   "execution_count": null,
   "metadata": {},
   "outputs": [
    {
     "data": {
      "image/png": "[encoded data removed]",
      "text/plain": [
       "<Figure size 245x210 with 1 Axes>"
      ]
     },
     "metadata": {},
     "output_type": "display_data"
    }
   ],
   "source": [
    "colors = ['#2E86C1', '#85C1E9', '#1B4F72']\n",
    "fig = plt.figure(figsize=(5.4*1.3*10, 10*4.2))\n",
    "factor = 0.7\n",
    "fig.set_size_inches(3.5*factor, 3*factor, forward=True)\n",
    "plt.plot(g_fbs, j[:,0]/max(j[:,0]), color=colors[2])\n",
    "plt.plot(g_fbs, j[:,1]/max(j[:,0]), color=colors[0], linestyle='solid')\n",
    "plt.plot(g_fbs, j[:,2]/max(j[:,0]), color=colors[0], linestyle='dashed')\n",
    "plt.plot(g_fbs, j[:,3]/max(j[:,0]), color=colors[0], linestyle='dotted')\n",
    "plt.xlim([0.01, 0.2])\n",
    "plt.ylim([0,1])\n",
    "plt.xlabel(r'$g_{fb}$')\n",
    "plt.ylabel(r'$\\bar{L}/\\bar{L}_{\\rm{max}}$')\n",
    "#plt.yscale('log')\n",
    "plt.grid()\n",
    "plt.xscale('log')\n",
    "plt.legend([r'$\\bar{L}$', r'$\\bar{L}_x$', r'$\\bar{L}_y$', r'$\\bar{L}_z$'])\n",
    "plt.savefig('../../plots/Chapter 3/costs_lqr_coupled_actuator.pdf', dpi=300, bbox_inches = 'tight')\n",
    "\n",
    "plt.show()"
   ]
  },
  {
   "cell_type": "code",
   "execution_count": null,
   "metadata": {},
   "outputs": [
    {
     "data": {
      "image/png": "[encoded data removed]",
      "text/plain": [
       "<Figure size 245x210 with 1 Axes>"
      ]
     },
     "metadata": {},
     "output_type": "display_data"
    }
   ],
   "source": [
    "colors = ['#2E86C1', '#85C1E9', '#1B4F72']\n",
    "fig = plt.figure(figsize=(5.4*1.3*10, 10*4.2))\n",
    "factor = 0.7\n",
    "fig.set_size_inches(3.5*factor, 3*factor, forward=True)\n",
    "plt.plot(g_fbs, j[:,0]/max(j[:,0]), color=colors[2])\n",
    "plt.plot(g_fbs, j[:,1]/max(j[:,0]), color=colors[0], linestyle='solid')\n",
    "plt.plot(g_fbs, j[:,2]/max(j[:,0]), color=colors[0], linestyle='dashed')\n",
    "plt.plot(g_fbs, j[:,3]/max(j[:,0]), color=colors[0], linestyle='dotted')\n",
    "plt.xlim([0.01, 0.2])\n",
    "plt.ylim([0,1])\n",
    "plt.xlabel(r'$g_{fb}$')\n",
    "plt.ylabel(r'$\\bar{L}/\\bar{L}_{\\rm{max}}$')\n",
    "#plt.yscale('log')\n",
    "plt.grid()\n",
    "plt.xscale('log')\n",
    "plt.legend([r'$\\bar{L}$', r'$\\bar{L}_x$', r'$\\bar{L}_y$', r'$\\bar{L}_z$'])\n",
    "plt.savefig('../../plots/Chapter 3/costs_lqr_coupled_actuator.pdf', dpi=300, bbox_inches = 'tight')\n",
    "\n",
    "plt.show()"
   ]
  },
  {
   "cell_type": "code",
   "execution_count": null,
   "metadata": {},
   "outputs": [],
   "source": []
  }
 ],
 "metadata": {
  "kernelspec": {
   "display_name": "base",
   "language": "python",
   "name": "python3"
  },
  "language_info": {
   "codemirror_mode": {
    "name": "ipython",
    "version": 3
   },
   "file_extension": ".py",
   "mimetype": "text/x-python",
   "name": "python",
   "nbconvert_exporter": "python",
   "pygments_lexer": "ipython3",
   "version": "3.8.5"
  }
 },
 "nbformat": 4,
 "nbformat_minor": 2
}
