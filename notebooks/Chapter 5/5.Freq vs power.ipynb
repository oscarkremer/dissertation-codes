{
 "cells": [
  {
   "cell_type": "code",
   "execution_count": 30,
   "metadata": {},
   "outputs": [],
   "source": [
    "import pandas as pd\n",
    "import numpy as np\n",
    "import matplotlib.pyplot as plt\n",
    "from scipy.optimize import curve_fit"
   ]
  },
  {
   "cell_type": "code",
   "execution_count": 31,
   "metadata": {},
   "outputs": [],
   "source": [
    "import os \n",
    "os.environ[\"PATH\"] += os.pathsep + '/usr/local/bin'\n",
    "plt.rcParams.update({'font.size': 10})\n",
    "plt.rcParams['axes.linewidth'] = 1.5\n",
    "plt.rcParams['font.family'] = 'serif'\n",
    "plt.rcParams['font.serif'] = ['Times New Roman'] + plt.rcParams['font.serif']\n",
    "plt.rcParams.update({\n",
    "    \"text.usetex\": True,\n",
    "})"
   ]
  },
  {
   "cell_type": "code",
   "execution_count": 32,
   "metadata": {},
   "outputs": [
    {
     "data": {
      "text/html": [
       "<div>\n",
       "<style scoped>\n",
       "    .dataframe tbody tr th:only-of-type {\n",
       "        vertical-align: middle;\n",
       "    }\n",
       "\n",
       "    .dataframe tbody tr th {\n",
       "        vertical-align: top;\n",
       "    }\n",
       "\n",
       "    .dataframe thead th {\n",
       "        text-align: right;\n",
       "    }\n",
       "</style>\n",
       "<table border=\"1\" class=\"dataframe\">\n",
       "  <thead>\n",
       "    <tr style=\"text-align: right;\">\n",
       "      <th></th>\n",
       "      <th>power_z</th>\n",
       "      <th>freq_mean</th>\n",
       "      <th>freq_std</th>\n",
       "      <th>power_w</th>\n",
       "    </tr>\n",
       "  </thead>\n",
       "  <tbody>\n",
       "    <tr>\n",
       "      <th>5</th>\n",
       "      <td>30.0</td>\n",
       "      <td>57823.187863</td>\n",
       "      <td>1691.291484</td>\n",
       "      <td>1000.000000</td>\n",
       "    </tr>\n",
       "    <tr>\n",
       "      <th>1</th>\n",
       "      <td>30.5</td>\n",
       "      <td>61172.124224</td>\n",
       "      <td>1491.225170</td>\n",
       "      <td>1122.018454</td>\n",
       "    </tr>\n",
       "    <tr>\n",
       "      <th>9</th>\n",
       "      <td>31.0</td>\n",
       "      <td>64773.630183</td>\n",
       "      <td>1613.699785</td>\n",
       "      <td>1258.925412</td>\n",
       "    </tr>\n",
       "    <tr>\n",
       "      <th>6</th>\n",
       "      <td>31.5</td>\n",
       "      <td>68659.385643</td>\n",
       "      <td>1702.516134</td>\n",
       "      <td>1412.537545</td>\n",
       "    </tr>\n",
       "    <tr>\n",
       "      <th>2</th>\n",
       "      <td>32.0</td>\n",
       "      <td>72772.843083</td>\n",
       "      <td>1666.092592</td>\n",
       "      <td>1584.893192</td>\n",
       "    </tr>\n",
       "  </tbody>\n",
       "</table>\n",
       "</div>"
      ],
      "text/plain": [
       "   power_z     freq_mean     freq_std      power_w\n",
       "5     30.0  57823.187863  1691.291484  1000.000000\n",
       "1     30.5  61172.124224  1491.225170  1122.018454\n",
       "9     31.0  64773.630183  1613.699785  1258.925412\n",
       "6     31.5  68659.385643  1702.516134  1412.537545\n",
       "2     32.0  72772.843083  1666.092592  1584.893192"
      ]
     },
     "execution_count": 32,
     "metadata": {},
     "output_type": "execute_result"
    }
   ],
   "source": [
    "df_x = pd.read_csv(\"../../data/1550/freq_vs_power/freqx_vs_power.csv\")\n",
    "df_x['power_w'] = np.power(10, df_x['power_z'].values/10)\n",
    "df_x = df_x.sort_values(by='power_z')\n",
    "df_x.head()"
   ]
  },
  {
   "cell_type": "code",
   "execution_count": 33,
   "metadata": {},
   "outputs": [
    {
     "data": {
      "text/html": [
       "<div>\n",
       "<style scoped>\n",
       "    .dataframe tbody tr th:only-of-type {\n",
       "        vertical-align: middle;\n",
       "    }\n",
       "\n",
       "    .dataframe tbody tr th {\n",
       "        vertical-align: top;\n",
       "    }\n",
       "\n",
       "    .dataframe thead th {\n",
       "        text-align: right;\n",
       "    }\n",
       "</style>\n",
       "<table border=\"1\" class=\"dataframe\">\n",
       "  <thead>\n",
       "    <tr style=\"text-align: right;\">\n",
       "      <th></th>\n",
       "      <th>power_z</th>\n",
       "      <th>freq_mean</th>\n",
       "      <th>freq_std</th>\n",
       "      <th>power_w</th>\n",
       "    </tr>\n",
       "  </thead>\n",
       "  <tbody>\n",
       "    <tr>\n",
       "      <th>5</th>\n",
       "      <td>30.0</td>\n",
       "      <td>61397.209431</td>\n",
       "      <td>6010.508125</td>\n",
       "      <td>1000.000000</td>\n",
       "    </tr>\n",
       "    <tr>\n",
       "      <th>1</th>\n",
       "      <td>30.5</td>\n",
       "      <td>64686.333287</td>\n",
       "      <td>5205.083886</td>\n",
       "      <td>1122.018454</td>\n",
       "    </tr>\n",
       "    <tr>\n",
       "      <th>9</th>\n",
       "      <td>31.0</td>\n",
       "      <td>68385.652381</td>\n",
       "      <td>3752.971550</td>\n",
       "      <td>1258.925412</td>\n",
       "    </tr>\n",
       "    <tr>\n",
       "      <th>6</th>\n",
       "      <td>31.5</td>\n",
       "      <td>72461.755884</td>\n",
       "      <td>2862.081955</td>\n",
       "      <td>1412.537545</td>\n",
       "    </tr>\n",
       "    <tr>\n",
       "      <th>2</th>\n",
       "      <td>32.0</td>\n",
       "      <td>76811.193518</td>\n",
       "      <td>2170.037462</td>\n",
       "      <td>1584.893192</td>\n",
       "    </tr>\n",
       "  </tbody>\n",
       "</table>\n",
       "</div>"
      ],
      "text/plain": [
       "   power_z     freq_mean     freq_std      power_w\n",
       "5     30.0  61397.209431  6010.508125  1000.000000\n",
       "1     30.5  64686.333287  5205.083886  1122.018454\n",
       "9     31.0  68385.652381  3752.971550  1258.925412\n",
       "6     31.5  72461.755884  2862.081955  1412.537545\n",
       "2     32.0  76811.193518  2170.037462  1584.893192"
      ]
     },
     "execution_count": 33,
     "metadata": {},
     "output_type": "execute_result"
    }
   ],
   "source": [
    "df_y = pd.read_csv(\"../../data/1550/freq_vs_power/freqy_vs_power.csv\")\n",
    "df_y['power_w'] = np.power(10, df_y['power_z'].values/10)\n",
    "df_y = df_y.sort_values(by='power_z')\n",
    "df_y.head()"
   ]
  },
  {
   "cell_type": "code",
   "execution_count": 34,
   "metadata": {},
   "outputs": [
    {
     "data": {
      "text/html": [
       "<div>\n",
       "<style scoped>\n",
       "    .dataframe tbody tr th:only-of-type {\n",
       "        vertical-align: middle;\n",
       "    }\n",
       "\n",
       "    .dataframe tbody tr th {\n",
       "        vertical-align: top;\n",
       "    }\n",
       "\n",
       "    .dataframe thead th {\n",
       "        text-align: right;\n",
       "    }\n",
       "</style>\n",
       "<table border=\"1\" class=\"dataframe\">\n",
       "  <thead>\n",
       "    <tr style=\"text-align: right;\">\n",
       "      <th></th>\n",
       "      <th>power_z</th>\n",
       "      <th>freq_mean</th>\n",
       "      <th>freq_std</th>\n",
       "      <th>power_w</th>\n",
       "    </tr>\n",
       "  </thead>\n",
       "  <tbody>\n",
       "    <tr>\n",
       "      <th>5</th>\n",
       "      <td>30.0</td>\n",
       "      <td>16728.894472</td>\n",
       "      <td>3.346784e+05</td>\n",
       "      <td>1000.000000</td>\n",
       "    </tr>\n",
       "    <tr>\n",
       "      <th>1</th>\n",
       "      <td>30.5</td>\n",
       "      <td>17738.336238</td>\n",
       "      <td>1.645142e+05</td>\n",
       "      <td>1122.018454</td>\n",
       "    </tr>\n",
       "    <tr>\n",
       "      <th>9</th>\n",
       "      <td>31.0</td>\n",
       "      <td>19574.660091</td>\n",
       "      <td>2.671674e+06</td>\n",
       "      <td>1258.925412</td>\n",
       "    </tr>\n",
       "    <tr>\n",
       "      <th>6</th>\n",
       "      <td>31.5</td>\n",
       "      <td>20670.910310</td>\n",
       "      <td>1.015348e+05</td>\n",
       "      <td>1412.537545</td>\n",
       "    </tr>\n",
       "    <tr>\n",
       "      <th>2</th>\n",
       "      <td>32.0</td>\n",
       "      <td>21667.712117</td>\n",
       "      <td>8.772571e+04</td>\n",
       "      <td>1584.893192</td>\n",
       "    </tr>\n",
       "  </tbody>\n",
       "</table>\n",
       "</div>"
      ],
      "text/plain": [
       "   power_z     freq_mean      freq_std      power_w\n",
       "5     30.0  16728.894472  3.346784e+05  1000.000000\n",
       "1     30.5  17738.336238  1.645142e+05  1122.018454\n",
       "9     31.0  19574.660091  2.671674e+06  1258.925412\n",
       "6     31.5  20670.910310  1.015348e+05  1412.537545\n",
       "2     32.0  21667.712117  8.772571e+04  1584.893192"
      ]
     },
     "execution_count": 34,
     "metadata": {},
     "output_type": "execute_result"
    }
   ],
   "source": [
    "df_z = pd.read_csv(\"../../data/1550/freq_vs_power/freqz_vs_power.csv\")\n",
    "df_z['power_w'] = np.power(10, df_z['power_z'].values/10)\n",
    "df_z = df_z.sort_values(by='power_z')\n",
    "df_z.head()"
   ]
  },
  {
   "cell_type": "code",
   "execution_count": 35,
   "metadata": {},
   "outputs": [],
   "source": [
    "def simple_model(power, a):\n",
    "    \n",
    "    return a*np.sqrt(power)"
   ]
  },
  {
   "cell_type": "code",
   "execution_count": 36,
   "metadata": {},
   "outputs": [],
   "source": [
    "ans_x, _ = curve_fit(simple_model, df_x['power_w'].values, df_x['freq_mean'].values)\n",
    "ans_y, _ = curve_fit(simple_model, df_y['power_w'].values, df_y['freq_mean'].values)\n",
    "ans_z, _ = curve_fit(simple_model, df_z['power_w'].values, df_z['freq_mean'].values)"
   ]
  },
  {
   "cell_type": "markdown",
   "metadata": {},
   "source": []
  },
  {
   "cell_type": "code",
   "execution_count": 58,
   "metadata": {},
   "outputs": [
    {
     "data": {
      "image/png": "[encoded data removed]",
      "text/plain": [
       "<Figure size 400x250 with 1 Axes>"
      ]
     },
     "metadata": {},
     "output_type": "display_data"
    }
   ],
   "source": [
    "colors = ['#2E86C1', '#85C1E9', '#1B4F72']\n",
    "fig = plt.figure(figsize=(5.4*1.3*10, 10*4.2))\n",
    "fig.set_size_inches(2.5*1.6, 2.5, forward=True)\n",
    "\n",
    "plt.errorbar(df_x['power_w'].values, df_x['freq_mean'].values/1e3, yerr=np.sqrt(df_x['freq_std'].values)/1e3, fmt='o', \n",
    "             color=colors[0], label=r'$\\Omega_x$', markersize=4)\n",
    "plt.plot(df_x['power_w'].values, simple_model(df_x['power_w'].values, *ans_x)/1e3, color=colors[0], label='_')\n",
    "plt.errorbar(df_y['power_w'].values, df_y['freq_mean'].values/1e3, yerr=np.sqrt(df_y['freq_std'].values)/1e3, fmt='o',\n",
    "              color=colors[1], label=r'$\\Omega_y$', markersize=4)\n",
    "plt.plot(df_x['power_w'].values, simple_model(df_x['power_w'].values, *ans_y)/1e3,color=colors[1], label='_')\n",
    "plt.errorbar(df_z['power_w'].values, df_z['freq_mean'].values/1e3, yerr=np.sqrt(df_z['freq_std'].values)/1e3, fmt='o', \n",
    "             color=colors[2], label=r'$\\Omega_z$', markersize=4)\n",
    "plt.plot(df_x['power_w'].values, simple_model(df_x['power_w'].values, *ans_z)/1e3,color=colors[2], label='_')\n",
    "#plt.yscale('log')\n",
    "plt.grid()\n",
    "plt.xlabel('Power (mW)')\n",
    "plt.ylabel(r'$\\Omega$ (kHz)')\n",
    "#plt.xlim([2.3, 4e-5])\n",
    "#plt.ylim([0.3, 400])\n",
    "plt.legend()\n",
    "plt.savefig('../../plots/Chapter 5/freq_vs_power.pdf', dpi=300, bbox_inches = 'tight')\n",
    "plt.show()"
   ]
  },
  {
   "cell_type": "code",
   "execution_count": 64,
   "metadata": {},
   "outputs": [
    {
     "data": {
      "image/png": "[encoded data removed]",
      "text/plain": [
       "<Figure size 250x250 with 1 Axes>"
      ]
     },
     "metadata": {},
     "output_type": "display_data"
    }
   ],
   "source": [
    "colors = ['#2E86C1', '#85C1E9', '#1B4F72']\n",
    "fig = plt.figure(figsize=(5.4*1.3*10, 10*4.2))\n",
    "fig.set_size_inches(2.5*1, 2.5, forward=True)\n",
    "\n",
    "plt.grid()\n",
    "\n",
    "output_edfa = np.array([25, 25.5, 26, 26.5, 27, 27.5])\n",
    "measure_free_space = np.array([24.54965127, 25.04216281, 25.5365586, 26.03915562, 26.52870631, 27.01406451])\n",
    "plt.scatter(10**(output_edfa/10), 10**(measure_free_space/10), color=colors[2], label='Measure')\n",
    "x = np.linspace(24, 28, 100)\n",
    "plt.plot(10**(x/10), 10**((0.988*x -0.141)/10), label='Fit', color=colors[2])\n",
    "\n",
    "#plt.yscale('log')\n",
    "plt.xlabel('Output Power EDFA (mW)')\n",
    "plt.ylabel(r'Power - Free Space (mW)')\n",
    "plt.xlim([290, 510])\n",
    "plt.ylim([250, 500])\n",
    "plt.xticks([300, 350, 400, 450, 500])\n",
    "plt.legend()\n",
    "plt.savefig('../../plots/Chapter 5/out_power_vs_space_power.pdf', dpi=300, bbox_inches = 'tight')\n",
    "plt.show()\n",
    "\n"
   ]
  },
  {
   "cell_type": "code",
   "execution_count": null,
   "metadata": {},
   "outputs": [],
   "source": []
  }
 ],
 "metadata": {
  "kernelspec": {
   "display_name": "base",
   "language": "python",
   "name": "python3"
  },
  "language_info": {
   "codemirror_mode": {
    "name": "ipython",
    "version": 3
   },
   "file_extension": ".py",
   "mimetype": "text/x-python",
   "name": "python",
   "nbconvert_exporter": "python",
   "pygments_lexer": "ipython3",
   "version": "3.8.5"
  }
 },
 "nbformat": 4,
 "nbformat_minor": 2
}
