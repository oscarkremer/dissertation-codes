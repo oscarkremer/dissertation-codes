{
 "cells": [
  {
   "cell_type": "code",
   "execution_count": 1,
   "metadata": {},
   "outputs": [],
   "source": [
    "import pandas as pd\n",
    "import numpy as np\n",
    "import matplotlib.pyplot as plt"
   ]
  },
  {
   "cell_type": "code",
   "execution_count": 2,
   "metadata": {},
   "outputs": [],
   "source": [
    "plt.rcParams.update({'font.size': 10})\n",
    "plt.rcParams['axes.linewidth'] = 1.5\n",
    "plt.rcParams['font.family'] = 'serif'\n",
    "plt.rcParams['font.serif'] = ['Times New Roman'] + plt.rcParams['font.serif']\n",
    "plt.rcParams.update({\n",
    "    \"text.usetex\": True,\n",
    "})"
   ]
  },
  {
   "cell_type": "code",
   "execution_count": 3,
   "metadata": {},
   "outputs": [
    {
     "data": {
      "text/html": [
       "<div>\n",
       "<style scoped>\n",
       "    .dataframe tbody tr th:only-of-type {\n",
       "        vertical-align: middle;\n",
       "    }\n",
       "\n",
       "    .dataframe tbody tr th {\n",
       "        vertical-align: top;\n",
       "    }\n",
       "\n",
       "    .dataframe thead th {\n",
       "        text-align: right;\n",
       "    }\n",
       "</style>\n",
       "<table border=\"1\" class=\"dataframe\">\n",
       "  <thead>\n",
       "    <tr style=\"text-align: right;\">\n",
       "      <th></th>\n",
       "      <th>pressure</th>\n",
       "      <th>t_x</th>\n",
       "      <th>t_y</th>\n",
       "      <th>t_z</th>\n",
       "      <th>std_t_x</th>\n",
       "      <th>std_t_y</th>\n",
       "      <th>std_t_z</th>\n",
       "    </tr>\n",
       "  </thead>\n",
       "  <tbody>\n",
       "    <tr>\n",
       "      <th>0</th>\n",
       "      <td>0.01600</td>\n",
       "      <td>27.614444</td>\n",
       "      <td>29.508621</td>\n",
       "      <td>90.565976</td>\n",
       "      <td>5.811808</td>\n",
       "      <td>6.215102</td>\n",
       "      <td>19.177945</td>\n",
       "    </tr>\n",
       "    <tr>\n",
       "      <th>1</th>\n",
       "      <td>0.17500</td>\n",
       "      <td>18.466832</td>\n",
       "      <td>23.576055</td>\n",
       "      <td>119.139503</td>\n",
       "      <td>3.886578</td>\n",
       "      <td>4.965585</td>\n",
       "      <td>25.228579</td>\n",
       "    </tr>\n",
       "    <tr>\n",
       "      <th>2</th>\n",
       "      <td>0.00063</td>\n",
       "      <td>2.073336</td>\n",
       "      <td>0.722415</td>\n",
       "      <td>3.209432</td>\n",
       "      <td>0.436360</td>\n",
       "      <td>0.152155</td>\n",
       "      <td>0.679619</td>\n",
       "    </tr>\n",
       "    <tr>\n",
       "      <th>3</th>\n",
       "      <td>0.01400</td>\n",
       "      <td>6.880496</td>\n",
       "      <td>4.711656</td>\n",
       "      <td>25.556686</td>\n",
       "      <td>1.448087</td>\n",
       "      <td>0.992368</td>\n",
       "      <td>5.705713</td>\n",
       "    </tr>\n",
       "    <tr>\n",
       "      <th>4</th>\n",
       "      <td>0.00220</td>\n",
       "      <td>2.707936</td>\n",
       "      <td>0.901500</td>\n",
       "      <td>9.346767</td>\n",
       "      <td>0.569919</td>\n",
       "      <td>0.189874</td>\n",
       "      <td>1.979240</td>\n",
       "    </tr>\n",
       "  </tbody>\n",
       "</table>\n",
       "</div>"
      ],
      "text/plain": [
       "   pressure        t_x        t_y         t_z   std_t_x   std_t_y    std_t_z\n",
       "0   0.01600  27.614444  29.508621   90.565976  5.811808  6.215102  19.177945\n",
       "1   0.17500  18.466832  23.576055  119.139503  3.886578  4.965585  25.228579\n",
       "2   0.00063   2.073336   0.722415    3.209432  0.436360  0.152155   0.679619\n",
       "3   0.01400   6.880496   4.711656   25.556686  1.448087  0.992368   5.705713\n",
       "4   0.00220   2.707936   0.901500    9.346767  0.569919  0.189874   1.979240"
      ]
     },
     "execution_count": 3,
     "metadata": {},
     "output_type": "execute_result"
    }
   ],
   "source": [
    "data = pd.read_csv(\"../../data/1550/all-electrical/temp_all_electrical.csv\")\n",
    "data.head()"
   ]
  },
  {
   "cell_type": "code",
   "execution_count": 4,
   "metadata": {},
   "outputs": [
    {
     "data": {
      "text/plain": [
       "(    pressure       t_x       t_y       t_z   std_t_x   std_t_y   std_t_z\n",
       " 19  0.000086  0.580819  0.548392  3.630463  0.122241  0.115502  0.768775\n",
       " 35  0.000063  0.582484  0.608930  3.062305  0.122591  0.128253  0.648463\n",
       " 8   0.000220  1.192225  0.643988  2.886891  0.250919  0.135637  0.611318\n",
       " 5   0.000120  1.265376  0.626737  2.543042  0.266314  0.132003  0.538506\n",
       " 26  0.000460  1.307062  0.733904  2.969011  0.275088  0.154575  0.628708,\n",
       "     pressure       t_x       t_y       t_z   std_t_x   std_t_y   std_t_z\n",
       " 19  0.000086  0.580819  0.548392  3.630463  0.122241  0.115502  0.768775\n",
       " 35  0.000063  0.582484  0.608930  3.062305  0.122591  0.128253  0.648463\n",
       " 5   0.000120  1.265376  0.626737  2.543042  0.266314  0.132003  0.538506\n",
       " 8   0.000220  1.192225  0.643988  2.886891  0.250919  0.135637  0.611318\n",
       " 16  0.000860  2.136182  0.716736  3.610108  0.449586  0.150959  0.764464,\n",
       "     pressure       t_x       t_y       t_z   std_t_x   std_t_y   std_t_z\n",
       " 5   0.000120  1.265376  0.626737  2.543042  0.266314  0.132003  0.538506\n",
       " 8   0.000220  1.192225  0.643988  2.886891  0.250919  0.135637  0.611318\n",
       " 26  0.000460  1.307062  0.733904  2.969011  0.275088  0.154575  0.628708\n",
       " 35  0.000063  0.582484  0.608930  3.062305  0.122591  0.128253  0.648463\n",
       " 2   0.000630  2.073336  0.722415  3.209432  0.436360  0.152155  0.679619)"
      ]
     },
     "execution_count": 4,
     "metadata": {},
     "output_type": "execute_result"
    }
   ],
   "source": [
    "data.sort_values(by=\"t_x\").head(), data.sort_values(by=\"t_y\").head(), data.sort_values(by=\"t_z\").head()"
   ]
  },
  {
   "cell_type": "code",
   "execution_count": 15,
   "metadata": {},
   "outputs": [
    {
     "data": {
      "image/png": "[encoded data removed]",
      "text/plain": [
       "<Figure size 350x250 with 1 Axes>"
      ]
     },
     "metadata": {},
     "output_type": "display_data"
    }
   ],
   "source": [
    "colors = ['#2E86C1', '#85C1E9', '#1B4F72']\n",
    "\n",
    "fig, ax1 = plt.subplots(1, 1)\n",
    "factor = 0.35\n",
    "fig.set_size_inches(10*factor, 2.5, forward=True)\n",
    "\n",
    "\n",
    "ax1.errorbar(data['pressure'].values, data['t_x'].values, yerr=data['std_t_x'].values, fmt='s', color=colors[0], label=r'$x$', markersize=3)\n",
    "ax1.errorbar(data['pressure'].values, data['t_y'].values, yerr=data['std_t_y'].values, fmt='.', color=colors[1], label=r'$y$', markersize=4)\n",
    "ax1.errorbar(data['pressure'].values, data['t_z'].values, yerr=data['std_t_z'].values, fmt='^', color=colors[2], label=r'$z$', markersize=3)\n",
    "ax1.set_yscale('log')\n",
    "ax1.set_xscale('log')\n",
    "ax1.grid()\n",
    "ax1.axvspan(1.4e-2, 2.2e-2, facecolor='0.2', alpha=0.125, zorder=-100)\n",
    "ax1.invert_xaxis()\n",
    "ax1.set_xlabel('Pressure (mbar)')\n",
    "ax1.set_ylabel(r'$T_{\\rm{eff}}$ (K)')\n",
    "ax1.set_xlim([2.3, 4e-5])\n",
    "ax1.set_ylim([0.3, 400])\n",
    "ax1.legend()\n",
    "plt.savefig('../../plots/Chapter 5/temperatures.pdf', dpi=300, bbox_inches = 'tight')\n",
    "plt.show()\n",
    "\n"
   ]
  },
  {
   "cell_type": "code",
   "execution_count": null,
   "metadata": {},
   "outputs": [],
   "source": []
  }
 ],
 "metadata": {
  "kernelspec": {
   "display_name": "base",
   "language": "python",
   "name": "python3"
  },
  "language_info": {
   "codemirror_mode": {
    "name": "ipython",
    "version": 3
   },
   "file_extension": ".py",
   "mimetype": "text/x-python",
   "name": "python",
   "nbconvert_exporter": "python",
   "pygments_lexer": "ipython3",
   "version": "3.8.5"
  }
 },
 "nbformat": 4,
 "nbformat_minor": 2
}
