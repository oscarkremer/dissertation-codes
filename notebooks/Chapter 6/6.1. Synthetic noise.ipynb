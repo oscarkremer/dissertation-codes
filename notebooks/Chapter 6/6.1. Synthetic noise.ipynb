{
 "cells": [
  {
   "cell_type": "code",
   "execution_count": 18,
   "id": "8e6a9ab9",
   "metadata": {},
   "outputs": [],
   "source": [
    "import matplotlib.pyplot as plt\n",
    "import numpy as np\n",
    "import scipy\n",
    "from tqdm import tqdm\n",
    "import os"
   ]
  },
  {
   "cell_type": "code",
   "execution_count": 19,
   "id": "a43cd9b8",
   "metadata": {},
   "outputs": [],
   "source": [
    "plt.rcParams.update({'font.size': 10})\n",
    "plt.rcParams['axes.linewidth'] = 1.5\n",
    "plt.rcParams['font.family'] = 'serif'\n",
    "plt.rcParams['font.serif'] = ['Times New Roman'] + plt.rcParams['font.serif']\n",
    "plt.rcParams.update({\n",
    "    \"text.usetex\": True,\n",
    "})"
   ]
  },
  {
   "cell_type": "code",
   "execution_count": 20,
   "id": "3aea86f1",
   "metadata": {},
   "outputs": [],
   "source": [
    "def transform_bit(state):\n",
    "    newbit = (state ^(state >> 2) ^ (state >>4) ^(state >> 13)) &1\n",
    "    state = (state >> 1) | (newbit << 13)\n",
    "    return state\n",
    "    "
   ]
  },
  {
   "cell_type": "code",
   "execution_count": 30,
   "id": "9db8a13b",
   "metadata": {},
   "outputs": [
    {
     "name": "stderr",
     "output_type": "stream",
     "text": [
      "  0%|          | 0/819200 [00:00<?, ?it/s]"
     ]
    },
    {
     "name": "stderr",
     "output_type": "stream",
     "text": [
      "100%|██████████| 819200/819200 [01:08<00:00, 11921.29it/s]\n"
     ]
    }
   ],
   "source": [
    "M = 50\n",
    "N = 50*2**14\n",
    "state = np.random.randint(2**14, size=M)\n",
    "states = np.zeros((N, state.shape[0]))\n",
    "for i in tqdm(range(N)):\n",
    "    for j in range(M):\n",
    "        state[j] = transform_bit(state[j])\n",
    "        states[i,j] = state[j]"
   ]
  },
  {
   "cell_type": "code",
   "execution_count": 31,
   "id": "7832852d",
   "metadata": {},
   "outputs": [
    {
     "name": "stdout",
     "output_type": "stream",
     "text": [
      "ShapiroResult(statistic=0.9999695420265198, pvalue=0.0007069935672916472)\n"
     ]
    },
    {
     "name": "stderr",
     "output_type": "stream",
     "text": [
      "/Users/oscarkremer/miniconda3/lib/python3.8/site-packages/scipy/stats/_morestats.py:1800: UserWarning: p-value may not be accurate for N > 5000.\n",
      "  warnings.warn(\"p-value may not be accurate for N > 5000.\")\n"
     ]
    }
   ],
   "source": [
    "print(scipy.stats.shapiro(states.sum(axis=1)))"
   ]
  },
  {
   "cell_type": "code",
   "execution_count": 32,
   "id": "8d3bca17",
   "metadata": {},
   "outputs": [],
   "source": [
    "white = states.sum(axis=1)/(M*(2**14-1))\n",
    "white = 2*(white-0.5)"
   ]
  },
  {
   "cell_type": "code",
   "execution_count": 33,
   "id": "f40a7dbc",
   "metadata": {},
   "outputs": [],
   "source": [
    "clock_cycle = 64*8e-9"
   ]
  },
  {
   "cell_type": "code",
   "execution_count": 34,
   "id": "6bfa36d8",
   "metadata": {},
   "outputs": [],
   "source": [
    "sum_brown = 0\n",
    "brown_noise = np.zeros((white.shape[0]))\n",
    "pink_noise = np.zeros((white.shape[0]-1))\n",
    "window=10000\n",
    "factor = 0.05\n",
    "for i in range(brown_noise.shape[0]):\n",
    "    brown_noise[i] = factor*(white[i-window:i+1].sum())\n",
    "pink_noise = np.diff(white)"
   ]
  },
  {
   "cell_type": "code",
   "execution_count": 35,
   "id": "500d6038",
   "metadata": {},
   "outputs": [],
   "source": [
    "f_white, power_white = scipy.signal.periodogram(white, fs=1/clock_cycle, window='hamming', nfft=(2**15))\n",
    "f_brown, power_brown = scipy.signal.periodogram(brown_noise, fs=1/clock_cycle, window='hamming', nfft=(2**15))\n",
    "f_pink, power_pink = scipy.signal.periodogram(pink_noise, fs=1/clock_cycle, window='hamming', nfft=(2**15))"
   ]
  },
  {
   "cell_type": "code",
   "execution_count": 36,
   "id": "bf6d6c21",
   "metadata": {},
   "outputs": [
    {
     "data": {
      "image/png": "[encoded data removed]",
      "text/plain": [
       "<Figure size 325x250 with 1 Axes>"
      ]
     },
     "metadata": {},
     "output_type": "display_data"
    }
   ],
   "source": [
    "colors = ['#2E86C1', '#85C1E9', '#1B4F72']\n",
    "fig = plt.figure(figsize=(5.4*1.3*10, 10*4.2))\n",
    "fig.set_size_inches(2.5*1.3, 2.5, forward=True)\n",
    "\n",
    "plt.plot(f_pink, 2000*power_pink/power_white.max(), color=colors[0], label=\"Violet\")\n",
    "plt.plot(f_white, power_white/power_white.max(), color=colors[1], label=\"White\")\n",
    "plt.plot(f_brown, 0.08*power_brown/power_white.max(), color=colors[2], label=\"Brown\")\n",
    "plt.yscale('log')\n",
    "plt.xscale('log')\n",
    "plt.xlabel(r'$\\Omega/2\\pi$')\n",
    "plt.ylabel(r'$S_{VV}$ (a.u)')\n",
    "\n",
    "plt.xlim([3e3, 1e6])\n",
    "plt.yticks([1e-8, 1e-2, 1e4])\n",
    "plt.ylim([1e-9, 1e5])\n",
    "plt.legend()\n",
    "plt.grid()\n",
    "plt.savefig('../../plots/Chapter 6/noise.pdf', dpi=300, bbox_inches = 'tight')\n",
    "plt.show()\n"
   ]
  }
 ],
 "metadata": {
  "kernelspec": {
   "display_name": "Python 3 (ipykernel)",
   "language": "python",
   "name": "python3"
  },
  "language_info": {
   "codemirror_mode": {
    "name": "ipython",
    "version": 3
   },
   "file_extension": ".py",
   "mimetype": "text/x-python",
   "name": "python",
   "nbconvert_exporter": "python",
   "pygments_lexer": "ipython3",
   "version": "3.8.5"
  }
 },
 "nbformat": 4,
 "nbformat_minor": 5
}
