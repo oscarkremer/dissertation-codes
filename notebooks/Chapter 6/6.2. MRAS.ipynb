{
 "cells": [
  {
   "cell_type": "code",
   "execution_count": 14,
   "metadata": {},
   "outputs": [],
   "source": [
    "import numpy as np\n",
    "import matplotlib.pyplot as plt\n",
    "from scipy import signal\n",
    "import os \n",
    "os.environ[\"PATH\"] += os.pathsep + '/usr/local/bin'\n"
   ]
  },
  {
   "cell_type": "code",
   "execution_count": 15,
   "metadata": {},
   "outputs": [],
   "source": [
    "plt.rcParams.update({'font.size': 10})\n",
    "plt.rcParams['axes.linewidth'] = 1.5\n",
    "plt.rcParams['font.family'] = 'serif'\n",
    "plt.rcParams['font.serif'] = ['Times New Roman'] + plt.rcParams['font.serif']\n",
    "plt.rcParams.update({\n",
    "    \"text.usetex\": True,\n",
    "})"
   ]
  },
  {
   "cell_type": "code",
   "execution_count": 16,
   "metadata": {},
   "outputs": [],
   "source": [
    "def simulation(omega, gamma, b, bm, x0, x0m, delta_t, ref, alpha, N):\n",
    "    x = x0\n",
    "    xdot = 0\n",
    "    xm = x0m\n",
    "    xdotm = 0\n",
    "    xs = np.zeros(N)\n",
    "    xms = np.zeros(N)\n",
    "    theta = 1\n",
    "    thetas = np.zeros(N)\n",
    "    us = np.zeros(N)\n",
    "    for i in range(N):\n",
    "        if i < N/2+(N/10):\n",
    "            uc = -1*xdot+2*ref[i]\n",
    "        else:\n",
    "            uc = -1*xdot\n",
    "        us[i] = uc\n",
    "        thetas[i] = theta\n",
    "        pdot = -omega*x-gamma*xdot + b*theta*uc\n",
    "        xdot = xdot + omega*pdot*delta_t\n",
    "\n",
    "        x = x + xdot*delta_t\n",
    "        pdotm = -omega*xm-gamma*xdotm + bm*uc\n",
    "        xdotm = xdotm + omega*pdotm*delta_t\n",
    "        xm = xm + xdotm*delta_t\n",
    "        theta= theta+delta_t*(-alpha*xm*(x-xm))\n",
    "        xs[i] = x\n",
    "        xms[i] = xm\n",
    "    return xs, xms, us, thetas"
   ]
  },
  {
   "cell_type": "code",
   "execution_count": 181,
   "metadata": {},
   "outputs": [],
   "source": [
    "N=100000\n",
    "M=40000\n",
    "t = np.linspace(0, 0.1, N)\n",
    "freq = 80e3\n",
    "ref = signal.square(2 * np.pi * freq/50 * t)\n",
    "ref = 0.5*(1+ref)\n",
    "ref = ref\n",
    "xs, xms, us, thetas = simulation(2*np.pi*freq, 0.005, 0.34, 0.5, 5, 10, np.diff(t)[0], (2*np.pi*freq)*ref, 1000, t.shape[0])"
   ]
  },
  {
   "cell_type": "code",
   "execution_count": 182,
   "metadata": {},
   "outputs": [],
   "source": [
    "ref = ref*np.concatenate([np.ones(int(N/2+(N/10))), np.zeros((M))])"
   ]
  },
  {
   "cell_type": "code",
   "execution_count": 183,
   "metadata": {},
   "outputs": [
    {
     "data": {
      "image/png": "[encoded data removed]",
      "text/plain": [
       "<Figure size 560x280 with 2 Axes>"
      ]
     },
     "metadata": {},
     "output_type": "display_data"
    }
   ],
   "source": [
    "\n",
    "\n",
    "\n",
    "colors = ['#2E86C1', '#85C1E9', '#1B4F72']\n",
    "\n",
    "fig, (ax1, ax3) = plt.subplots(2, 1, sharex=True)\n",
    "factor = 0.7\n",
    "fig.set_size_inches(8*factor, 4.*factor, forward=True)\n",
    "#ax1.plot(t/1e-3, new_states[:,0]*env.zp_x/1e-9, color=colors[2])\n",
    "ax1.set_xlim([0, t.max()])\n",
    "\n",
    "#ax1.plot(t/1e-3, ref/ref.max())\n",
    "ax1.plot(t, xs, color=colors[2])\n",
    "ax1.plot(t, xms, color=colors[0], linestyle='dashed')\n",
    "ax1.set_ylabel(r'$x$ (m)')\n",
    "#ax1.axvspan(t[3000], t[-1], facecolor='0.2', alpha=0.125, zorder=-100)\n",
    "#ax1.text(1.51, -2, 'Cold damping+Stimulus', fontsize=10)\n",
    "#ax1.text(1.51, -2, 'Cold damping', fontsize=10)\n",
    "ax1.grid(True, which=\"both\", ls=\"-\")\n",
    "#ax1.set_ylim([-3.5, 10])\n",
    "ax1.legend(['Nominal Model', 'Ref. Model'])\n",
    "\n",
    "ax3.plot(t, thetas*0.34, color=colors[2])\n",
    "ax3.plot(t, np.ones(t.shape)*0.5, color=colors[2], linestyle='dashed')\n",
    "ax3.grid(True, which=\"both\", ls=\"-\")\n",
    "ax3.set_ylabel(r'$b^\\ast$ (kg${}^{-1}$)')\n",
    "ax3.set_xlabel(r'$t$ (ms)')\n",
    "\n",
    "\n",
    "#ax3.set_ylim([0,1.2])\n",
    "#ax3.set_xlim([0,0.5])\n",
    "\n",
    "plt.subplots_adjust(wspace=0, hspace=0)\n",
    "#plt.savefig('../../plots/Chapter 6/MRAS.pdf', dpi=300, bbox_inches = 'tight')\n",
    "plt.show()"
   ]
  },
  {
   "cell_type": "code",
   "execution_count": null,
   "metadata": {},
   "outputs": [],
   "source": []
  },
  {
   "cell_type": "code",
   "execution_count": null,
   "metadata": {},
   "outputs": [],
   "source": []
  }
 ],
 "metadata": {
  "kernelspec": {
   "display_name": "base",
   "language": "python",
   "name": "python3"
  },
  "language_info": {
   "codemirror_mode": {
    "name": "ipython",
    "version": 3
   },
   "file_extension": ".py",
   "mimetype": "text/x-python",
   "name": "python",
   "nbconvert_exporter": "python",
   "pygments_lexer": "ipython3",
   "version": "3.8.5"
  }
 },
 "nbformat": 4,
 "nbformat_minor": 2
}
