{
 "cells": [
  {
   "cell_type": "markdown",
   "metadata": {},
   "source": [
    "# Particle loading with nebulizer. "
   ]
  },
  {
   "cell_type": "markdown",
   "metadata": {},
   "source": [
    "The notebook calculates:\n",
    "- Number of particles in solution\n",
    "- Density of particles per ml\n",
    "- Number of particles per droplet\n",
    "\n"
   ]
  },
  {
   "cell_type": "code",
   "execution_count": 2,
   "metadata": {},
   "outputs": [],
   "source": [
    "import numpy as np"
   ]
  },
  {
   "cell_type": "markdown",
   "metadata": {},
   "source": [
    "#### Defining constants"
   ]
  },
  {
   "cell_type": "code",
   "execution_count": 3,
   "metadata": {},
   "outputs": [],
   "source": [
    "rho_h2o = 1000 #distilled water density kg/m3\n",
    "rho_SiO2 = 2200 # amorphous silica density kg/m3\n",
    "\n",
    "droplet_diameter = 3.09e-6 #  diameter of droplets in meters created by nebulizer\n",
    "weight_percent = 0.05 # - weight percent of the manufacturer solution\n",
    "d_particle = 143e-9 # particle diameter m"
   ]
  },
  {
   "cell_type": "markdown",
   "metadata": {},
   "source": [
    "#### Solution parameters"
   ]
  },
  {
   "cell_type": "code",
   "execution_count": 10,
   "metadata": {},
   "outputs": [],
   "source": [
    "V_solution = 50 #in ul\n",
    "V_ethanol = 10 #in ml"
   ]
  },
  {
   "cell_type": "markdown",
   "metadata": {},
   "source": [
    "#### particle mass calculation"
   ]
  },
  {
   "cell_type": "code",
   "execution_count": 11,
   "metadata": {},
   "outputs": [
    {
     "name": "stdout",
     "output_type": "stream",
     "text": [
      "particle diameter (nm)  143.0\n",
      "particle mass (kg) 3.37e-18\n"
     ]
    }
   ],
   "source": [
    "mass_particle = (4/3)*np.pi*(d_particle/2)**3*rho_SiO2\n",
    "print('particle diameter (nm) ', d_particle*1e9)\n",
    "print('particle mass (kg) {:.2e}'.format(mass_particle))"
   ]
  },
  {
   "cell_type": "markdown",
   "metadata": {},
   "source": [
    "####  number of particles in solution"
   ]
  },
  {
   "cell_type": "code",
   "execution_count": 12,
   "metadata": {},
   "outputs": [
    {
     "name": "stdout",
     "output_type": "stream",
     "text": [
      "number of particles in 1.01e+01 ml of solution =  7.87e+11 particles\n"
     ]
    }
   ],
   "source": [
    "#density of the solution\n",
    "rho_solution = 0.95*rho_h2o + 0.05*rho_SiO2\n",
    "#total mass of the solution\n",
    "m_solution = rho_solution*V_solution*1e-9\n",
    "m_particle_solution = weight_percent*m_solution\n",
    "# print('particle weight in solution {:.2e}'.format(m_particle_solution))\n",
    "\n",
    "#number of particles in solution\n",
    "N_SiO2 = m_particle_solution/mass_particle\n",
    "print('number of particles in {:.2e} ml of solution =  {:.2e} particles'.format(V_ethanol+V_solution/1000,N_SiO2))"
   ]
  },
  {
   "cell_type": "markdown",
   "metadata": {},
   "source": [
    "#### Density of particles per ml"
   ]
  },
  {
   "cell_type": "code",
   "execution_count": 13,
   "metadata": {},
   "outputs": [
    {
     "name": "stdout",
     "output_type": "stream",
     "text": [
      "number of particles in nebulizer NP/ml 7.83e+10\n"
     ]
    }
   ],
   "source": [
    "# particles in the final solution (manufacturer+ethanol)\n",
    "density_SiO2_in_nebulizer = N_SiO2/(V_ethanol+V_solution/1000)\n",
    "print('number of particles in nebulizer NP/ml {:.2e}'.format(density_SiO2_in_nebulizer))\n",
    "\n"
   ]
  },
  {
   "cell_type": "markdown",
   "metadata": {},
   "source": [
    "#### Particles per droplet"
   ]
  },
  {
   "cell_type": "code",
   "execution_count": 14,
   "metadata": {},
   "outputs": [
    {
     "name": "stdout",
     "output_type": "stream",
     "text": [
      "particles per droplet 1.21e+00\n"
     ]
    }
   ],
   "source": [
    "droplet_volume = (4/3)*np.pi*(droplet_diameter/2)**3 # in m**3 \n",
    "# print(droplet_volume*1000*1000) # 1 m**3 = 1000 l ---- 1 l = 1000 ml\n",
    "\n",
    "particles_per_droplet = density_SiO2_in_nebulizer*droplet_volume*1e6\n",
    "print('particles per droplet {:.2e}'.format(particles_per_droplet))"
   ]
  }
 ],
 "metadata": {
  "kernelspec": {
   "display_name": "Python 3 (ipykernel)",
   "language": "python",
   "name": "python3"
  },
  "language_info": {
   "codemirror_mode": {
    "name": "ipython",
    "version": 3
   },
   "file_extension": ".py",
   "mimetype": "text/x-python",
   "name": "python",
   "nbconvert_exporter": "python",
   "pygments_lexer": "ipython3",
   "version": "3.8.5"
  }
 },
 "nbformat": 4,
 "nbformat_minor": 4
}
