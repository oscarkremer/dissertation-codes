{
 "cells": [
  {
   "cell_type": "code",
   "execution_count": 1,
   "metadata": {},
   "outputs": [],
   "source": [
    "import numpy as np\n",
    "import matplotlib.pyplot as plt\n",
    "import matplotlib\n",
    "import seaborn as sns\n",
    "from tqdm import tqdm\n",
    "import pandas as pd\n",
    "from scipy.integrate import trapezoid\n",
    "from scipy.optimize import curve_fit\n",
    "from scipy.special import jv"
   ]
  },
  {
   "cell_type": "code",
   "execution_count": 2,
   "metadata": {},
   "outputs": [],
   "source": [
    "plt.rcParams.update({'font.size': 10})\n",
    "plt.rcParams['axes.linewidth'] = 1.5\n",
    "plt.rcParams['font.family'] = 'serif'\n",
    "plt.rcParams['font.serif'] = ['Times New Roman'] + plt.rcParams['font.serif']\n",
    "plt.rcParams.update({\n",
    "    \"text.usetex\": True,\n",
    "})"
   ]
  },
  {
   "cell_type": "code",
   "execution_count": 3,
   "metadata": {},
   "outputs": [],
   "source": [
    "def linear(x, a, b):\n",
    "    return a*x+b"
   ]
  },
  {
   "cell_type": "code",
   "execution_count": 4,
   "metadata": {},
   "outputs": [],
   "source": [
    "\n",
    "def apodization_function(theta, focus=3.1e-3, theta_max=np.arcsin(0.67), w_0=(5.5e-3)/2):\n",
    "    f_0 = w_0/(focus*np.sin(theta_max))\n",
    "    return np.exp(-np.power(np.sin(theta)/(f_0*np.sin(theta_max)),2))\n",
    "\n",
    "\n",
    "def integral_i_00(rho, theta, z, focus=3.1e-3, theta_max=np.arcsin(0.67), wavenumber=2*np.pi/(1550e-9)):\n",
    "    fw = apodization_function(theta, focus=focus, theta_max=theta_max)\n",
    "    return fw*np.sqrt(np.cos(theta))*np.sin(theta)*(1+np.cos(theta))*jv(0, wavenumber*rho*np.sin(theta))*np.exp(1j*wavenumber*z*np.cos(theta))\n",
    "\n",
    "\n",
    "def integral_i_01(rho, theta, z, focus=3.1e-3, theta_max=np.arcsin(0.67), wavenumber=2*np.pi/(1550e-9)):\n",
    "    fw = apodization_function(theta, focus=focus, theta_max=theta_max)\n",
    "    return fw*np.sqrt(np.cos(theta))*np.power(np.sin(theta),2)*jv(1, wavenumber*rho*np.sin(theta))*np.exp(1j*wavenumber*z*np.cos(theta))\n",
    "\n",
    "\n",
    "def integral_i_02(rho, theta, z, focus=3.1e-3, theta_max=np.arcsin(0.67), wavenumber=2*np.pi/(1550e-9)):\n",
    "    fw = apodization_function(theta, focus=focus, theta_max=theta_max)\n",
    "    return fw*np.sqrt(np.cos(theta))*np.sin(theta)*(1-np.cos(theta))*jv(2, wavenumber*rho*np.sin(theta))*np.exp(1j*wavenumber*z*np.cos(theta))\n",
    "\n",
    "\n",
    "def compute_electric_field(rho, phi, z, focus=3.1e-3, theta_max=np.arcsin(0.67), wavenumber=2*np.pi/(1550e-9)):\n",
    "    thetas = np.linspace(0, theta_max, 1000)\n",
    "    i_00 = trapezoid(integral_i_00(rho, thetas, z), thetas)\n",
    "    i_01 = trapezoid(integral_i_01(rho, thetas, z), thetas)\n",
    "    i_02 = trapezoid(integral_i_02(rho, thetas, z), thetas)\n",
    "    E_amp = (1j*wavenumber*focus/2)*np.exp(-1j*wavenumber*focus)\n",
    "    return E_amp*np.array([[i_00+i_02*np.cos(2*phi)],[i_02*np.sin(2*phi)],[-2j*i_01*np.cos(phi)]])\n",
    "\n",
    "def compute_intensity_profile(xs, ys, z=0, power=200e-3, initial_waist=5.5e-3/2, epsilon_0=8.85e-12, c=3e8):\n",
    "    xs, ys = np.meshgrid(xs, ys)\n",
    "    rhos = np.sqrt(np.power(xs,2)+np.power(ys,2))\n",
    "    phis = np.arctan2(ys, xs)\n",
    "    E_0 = np.sqrt(4*power/(initial_waist*initial_waist*np.pi*epsilon_0*c))\n",
    "    intensities = np.zeros(rhos.shape)\n",
    "    for i in range(rhos.shape[0]):\n",
    "        for j in range(rhos.shape[1]):\n",
    "            module_e = E_0*np.abs(compute_electric_field(rhos[i,j], phis[i,j], z))\n",
    "            intensity = c*epsilon_0*np.power(module_e,2).sum()/2\n",
    "            intensities[i, j] =intensity\n",
    "    return xs, ys, intensities\n",
    "\n",
    "\n",
    "def compute_intensity_z(z,  power=200e-3, initial_waist=5.5e-3/2, epsilon_0=8.85e-12, c=3e8):\n",
    "    rho = 0\n",
    "    phi = 0\n",
    "    E_0 = np.sqrt(4*power/(initial_waist*initial_waist*np.pi*epsilon_0*c))\n",
    "    intensities = np.zeros(z.shape)\n",
    "    for i in range(z.shape[0]):\n",
    "        module_e = E_0*np.abs(compute_electric_field(rho, phi, z[i]))\n",
    "        intensity = c*epsilon_0*np.power(module_e,2).sum()/2\n",
    "        intensities[i] =intensity\n",
    "    return intensities\n"
   ]
  },
  {
   "cell_type": "code",
   "execution_count": 5,
   "metadata": {},
   "outputs": [],
   "source": [
    "R = (143e-9)/2\n",
    "epsilon_0 = 8.85e-12\n",
    "refraction_index = 1.55\n",
    "wavelength = 1550e-9\n",
    "wavenumber = 2*np.pi/wavelength\n",
    "c = 2.99e8\n",
    "epsilon = refraction_index**2\n",
    "rho = 2200\n",
    "power = 300e-3\n",
    "volume = 4 * np.pi * np.power(R,3)/ 3\n",
    "m = rho * volume\n",
    "epsilon_ratio = (epsilon-1)/(epsilon+2)\n",
    "alpha_CM = 3 * volume * epsilon_0 * epsilon_ratio\n",
    "alpha = alpha_CM/(1-epsilon_ratio*(np.power(wavenumber*R,2)+(2j/3)*np.power(wavenumber*R,3)))"
   ]
  },
  {
   "cell_type": "code",
   "execution_count": 8,
   "metadata": {},
   "outputs": [],
   "source": [
    "def compute_forces_xy(x_points, y_points, intensities, alpha):\n",
    "    fx = np.gradient(intensities[:, int(intensities.shape[1]/2)], np.diff(x_points)[0])\n",
    "    fy = np.gradient(intensities[int(intensities.shape[1]/2),:], np.diff(y_points)[0])\n",
    "    return np.real(alpha)*fx/(2*c*epsilon_0), np.real(alpha)*fy/(2*c*epsilon_0)\n",
    "\n",
    "def compute_forces_z(z_points, intensities, alpha, wavenumber=(2*np.pi/(1550e-9)), radius=143e-9/2, epsilon_0=8.85e-12, c=3e8):\n",
    "    f_grad_z = np.gradient(intensities, np.diff(z_points)[0])\n",
    "    f_grad_z = np.real(alpha)*f_grad_z/(2*c*epsilon_0)\n",
    "    f_scat = np.imag(alpha)*wavenumber*intensities/(c*epsilon_0)\n",
    "    return f_grad_z, f_scat "
   ]
  },
  {
   "cell_type": "code",
   "execution_count": 9,
   "metadata": {},
   "outputs": [],
   "source": [
    "z_points = np.linspace(-10e-6, 10e-6, 150)\n",
    "intensities = compute_intensity_z(z_points)\n",
    "f_grad_z, f_scat = compute_forces_z(z_points, intensities, alpha, radius=R)\n"
   ]
  },
  {
   "cell_type": "code",
   "execution_count": 26,
   "metadata": {},
   "outputs": [
    {
     "data": {
      "image/png": "[encoded data removed]",
      "text/plain": [
       "<Figure size 280x210 with 1 Axes>"
      ]
     },
     "metadata": {},
     "output_type": "display_data"
    }
   ],
   "source": [
    "colors = ['#2E86C1', '#85C1E9', '#1B4F72']\n",
    "fig = plt.figure(figsize=(5.4*1.3*10, 10*4.2))\n",
    "factor = 0.7\n",
    "fig.set_size_inches(4*factor, 3*factor, forward=True)\n",
    "plt.plot(z_points/1e-6,f_grad_z+f_scat, color=colors[2])\n",
    "plt.plot(z_points/1e-6, f_grad_z, color=colors[1], linestyle='dashed')\n",
    "plt.plot(z_points/1e-6, f_scat, color=colors[0], linestyle='dotted')\n",
    "\n",
    "\n",
    "#plt.plot(np.gradient(intensities)[:, int(ys.shape[1]/2)], color=colors[2], linestyle='dashed')\n",
    "plt.xlabel(r'$z$ ($\\mu$m)')\n",
    "plt.ylabel(r'$F$ ($\\textrm{N}$)') \n",
    "plt.xticks([-10, 0, 10])\n",
    "plt.grid()\n",
    "plt.legend([r'$F_{\\rm{t},z}$' ,r'$F_{\\rm{grad},z}$', r'$F_{\\rm{scat},z}$'], loc='upper right', fontsize=8)\n",
    "plt.savefig('plots/Chapter 2/forces_z_no_fit.pdf', dpi=300, bbox_inches = 'tight')\n",
    "plt.show()\n",
    "plt.show()"
   ]
  },
  {
   "cell_type": "code",
   "execution_count": 13,
   "metadata": {},
   "outputs": [
    {
     "data": {
      "text/plain": [
       "15788.403308558496"
      ]
     },
     "execution_count": 13,
     "metadata": {},
     "output_type": "execute_result"
    }
   ],
   "source": [
    "f_total_z = f_grad_z+f_scat\n",
    "#params, _ = curve_fit(linear, x_points,  intensities[:, int(ys.shape[1]/2)], p0=[300e-3, 1.5e-6])\n",
    "\n",
    "params, _ = curve_fit(linear, z_points[75-7:75+7], f_total_z[75-7:75+7], p0=[1e-15, 0])\n",
    "np.sqrt(-params[0]/m)/(2*np.pi)"
   ]
  },
  {
   "cell_type": "code",
   "execution_count": 24,
   "metadata": {},
   "outputs": [
    {
     "data": {
      "text/plain": [
       "2.4822484539888537e-07"
      ]
     },
     "execution_count": 24,
     "metadata": {},
     "output_type": "execute_result"
    }
   ],
   "source": [
    "z_0 = -params[1]/params[0]\n",
    "z_0"
   ]
  },
  {
   "cell_type": "code",
   "execution_count": 57,
   "metadata": {},
   "outputs": [
    {
     "data": {
      "image/png": "[encoded data removed]",
      "text/plain": [
       "<Figure size 266x210 with 1 Axes>"
      ]
     },
     "metadata": {},
     "output_type": "display_data"
    }
   ],
   "source": [
    "colors = ['#2E86C1', '#85C1E9', '#1B4F72']\n",
    "fig = plt.figure(figsize=(5.4*1.3*10, 10*4.2))\n",
    "factor = 0.7\n",
    "fig.set_size_inches(3.8*factor, 3*factor, forward=True)\n",
    "plt.plot(z_points/1e-6,f_grad_z+f_scat, color=colors[2])\n",
    "plt.plot(z_points/1e-6, f_grad_z, color=colors[1], linestyle='dashed')\n",
    "plt.plot(z_points/1e-6, f_scat, color=colors[0], linestyle='dotted')\n",
    "plt.plot(z_points/1e-6, linear(z_points, *params), linestyle='-.')\n",
    "\n",
    "plt.xlim([-10,10])\n",
    "plt.ylim([-8e-14, 8e-14])\n",
    "#plt.plot(np.gradient(intensities)[:, int(ys.shape[1]/2)], color=colors[2], linestyle='dashed')\n",
    "plt.xlabel(r'$z$ ($\\mu$m)')\n",
    "plt.ylabel(r'$F$ ($\\textrm{N}$)') \n",
    "plt.xticks([-10, 0, 10])\n",
    "plt.grid()\n",
    "plt.legend([r'$F_{\\rm{t},z}$' ,r'$F_{\\rm{grad},z}$', r'$F_{\\rm{scat},z}$', 'Linear fit'], loc='upper right', fontsize=7)\n",
    "plt.savefig('plots/Chapter 2/forces_z_fit.pdf', dpi=300, bbox_inches = 'tight')\n",
    "plt.show()\n",
    "plt.show()\n"
   ]
  },
  {
   "cell_type": "code",
   "execution_count": 51,
   "metadata": {},
   "outputs": [],
   "source": [
    "na = 0.67\n",
    "theta_max = np.arcsin(0.67)\n",
    "focus = 3.1e-3\n",
    "\n",
    "x_points = np.linspace(-2.2e-6, 2.2e-6, 150)\n",
    "y_points = np.linspace(-2.2e-6, 2.2e-6, 150)\n",
    "xs, ys, intensities = compute_intensity_profile(x_points, y_points, z=z_0)\n",
    "fy, fx = compute_forces_xy(x_points, y_points, intensities, alpha)"
   ]
  },
  {
   "cell_type": "code",
   "execution_count": 52,
   "metadata": {},
   "outputs": [
    {
     "name": "stderr",
     "output_type": "stream",
     "text": [
      "/Users/oscarkremer/miniconda3/lib/python3.8/site-packages/scipy/optimize/_minpack_py.py:881: OptimizeWarning: Covariance of the parameters could not be estimated\n",
      "  warnings.warn('Covariance of the parameters could not be estimated',\n"
     ]
    },
    {
     "data": {
      "text/plain": [
       "(63104.66869758479, 70244.61762670192)"
      ]
     },
     "execution_count": 52,
     "metadata": {},
     "output_type": "execute_result"
    }
   ],
   "source": [
    "#params, _ = curve_fit(linear, x_points,  intensities[:, int(ys.shape[1]/2)], p0=[300e-3, 1.5e-6])\n",
    "\n",
    "params_x, _ = curve_fit(linear, x_points[75-7:75+7], fx[75-7:75+7], p0=[1e-15, 0])\n",
    "params_y, _ = curve_fit(linear, y_points[75-7:75+7], fy[75-7:75+7], p0=[1e-15, 0])\n",
    "\n",
    "np.sqrt(-params_x[0]/m)/(2*np.pi),np.sqrt(-params_y[0]/m)/(2*np.pi)"
   ]
  },
  {
   "cell_type": "code",
   "execution_count": 58,
   "metadata": {},
   "outputs": [
    {
     "data": {
      "image/png": "[encoded data removed]",
      "text/plain": [
       "<Figure size 266x210 with 1 Axes>"
      ]
     },
     "metadata": {},
     "output_type": "display_data"
    }
   ],
   "source": [
    "colors = ['#2E86C1', '#85C1E9', '#1B4F72']\n",
    "fig = plt.figure(figsize=(5.4*1.3*10, 10*4.2))\n",
    "factor = 0.7\n",
    "fig.set_size_inches(3.8*factor, 3*factor, forward=True)\n",
    "\n",
    "plt.plot(x_points/1e-6, fx, color=colors[2])\n",
    "plt.plot(x_points/1e-6, linear(x_points, *params_x), color=colors[2], linestyle='dashed')\n",
    "plt.plot(y_points/1e-6, fy, color=colors[1])\n",
    "plt.plot(y_points/1e-6, linear(y_points, *params_y), color=colors[1], linestyle='dashed')\n",
    "\n",
    "plt.xlim([-2.2, 2.2])\n",
    "plt.ylim([-3e-13, 3e-13])\n",
    "#plt.plot(np.gradient(intensities)[:, int(ys.shape[1]/2)], color=colors[2], linestyle='dashed')\n",
    "plt.xlabel(r'$(x,y)$ ($\\mu$m)')\n",
    "plt.ylabel(r'$F$ ($\\textrm{N}$)') \n",
    "plt.xticks([-2, 0, 2])\n",
    "plt.grid()\n",
    "plt.legend([r'$F_{\\rm{grad},X}$' ,r'Linear fit - x', r'$F_{\\rm{grad},y}$', 'Linear fit - y'], loc='upper right', fontsize=7)\n",
    "plt.savefig('plots/Chapter 2/forces_xy_fit.pdf', dpi=300, bbox_inches = 'tight')\n",
    "plt.show()\n",
    "plt.show()"
   ]
  },
  {
   "cell_type": "code",
   "execution_count": null,
   "metadata": {},
   "outputs": [],
   "source": []
  }
 ],
 "metadata": {
  "kernelspec": {
   "display_name": "Python 3",
   "language": "python",
   "name": "python3"
  },
  "language_info": {
   "codemirror_mode": {
    "name": "ipython",
    "version": 3
   },
   "file_extension": ".py",
   "mimetype": "text/x-python",
   "name": "python",
   "nbconvert_exporter": "python",
   "pygments_lexer": "ipython3",
   "version": "3.8.5"
  }
 },
 "nbformat": 4,
 "nbformat_minor": 2
}
